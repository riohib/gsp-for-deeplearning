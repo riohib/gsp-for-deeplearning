{
 "cells": [
  {
   "cell_type": "code",
   "execution_count": 1,
   "metadata": {},
   "outputs": [],
   "source": [
    "import os\n",
    "import torch\n",
    "import networks.torch_vgg as vgg\n",
    "import torch.nn as nn\n",
    "import numpy as np\n",
    "import math\n",
    "import copy"
   ]
  },
  {
   "cell_type": "code",
   "execution_count": 2,
   "metadata": {},
   "outputs": [],
   "source": [
    "from main import validate\n",
    "from datasets import dataprep\n",
    "from gsp_model import GSP_Model\n"
   ]
  },
  {
   "cell_type": "code",
   "execution_count": 3,
   "metadata": {},
   "outputs": [],
   "source": [
    "class Args:\n",
    "    arch = 'vgg19_bn'\n",
    "    dataset='cifar10'\n",
    "    workers = 4\n",
    "    epochs=160\n",
    "    start_epoch=0\n",
    "    batch_size = 128\n",
    "    lr = 0.1\n",
    "    momentum = 0.9\n",
    "    weight_decay=1e-4\n",
    "    print_freq = 50\n",
    "    resume = False\n",
    "    evaluate = False\n",
    "    pretrained = False\n",
    "    half = False\n",
    "    exp_name = 'gsp_test'\n",
    "    \n",
    "    gpu=None\n",
    "    logdir = '/logdir'\n",
    "    gsp_training = True \n",
    "    gsp_sps = 0.8\n",
    "    scheduled_sps_run = True\n",
    "    proj_filters = False\n",
    "    proj_model = False\n",
    "    gsp_int = 150\n",
    "    gsp_start_ep = -1\n",
    "    finetune = False\n",
    "    finetune_sps = 0.9\n",
    "    \n",
    "    filelogger = None\n",
    "\n",
    "global args, best_acc1\n",
    "args = Args"
   ]
  },
  {
   "cell_type": "code",
   "execution_count": 4,
   "metadata": {},
   "outputs": [],
   "source": [
    "args.resume = \"/private/home/riohib/explore/gsp_cifar/cifar/model_best.pth.tar\""
   ]
  },
  {
   "cell_type": "code",
   "execution_count": 6,
   "metadata": {},
   "outputs": [
    {
     "name": "stdout",
     "output_type": "stream",
     "text": [
      "Files already downloaded and verified\n"
     ]
    }
   ],
   "source": [
    "# Load Model\n",
    "if args.dataset == 'cifar10': num_classes = 10\n",
    "if args.dataset == 'cifar100': num_classes = 100\n",
    "\n",
    "if 'vgg' in args.arch: model = vgg.__dict__[\"vgg19_bn\"](num_classes=num_classes)\n",
    "model = torch.nn.DataParallel(model)\n",
    "\n",
    "model.cuda()\n",
    "\n",
    "train_loader, val_loader = dataprep.get_data_loaders(dataset=args.dataset, args=args)"
   ]
  },
  {
   "cell_type": "code",
   "execution_count": 7,
   "metadata": {},
   "outputs": [],
   "source": [
    "# model_gsp = GSP_Model(model)\n",
    "# model_gsp.logger = args.filelogger # Initiate Logger\n",
    "criterion = nn.CrossEntropyLoss().cuda()\n",
    "\n",
    "optimizer = torch.optim.SGD(model.parameters(), args.lr,\n",
    "                            momentum=args.momentum,\n",
    "                            weight_decay=args.weight_decay)"
   ]
  },
  {
   "cell_type": "code",
   "execution_count": 8,
   "metadata": {},
   "outputs": [
    {
     "data": {
      "text/plain": [
       "<All keys matched successfully>"
      ]
     },
     "execution_count": 8,
     "metadata": {},
     "output_type": "execute_result"
    }
   ],
   "source": [
    "# optionally resume from a checkpoint\n",
    "checkpoint = torch.load(args.resume)\n",
    "args.start_epoch = checkpoint['epoch'] if not args.finetune else 0\n",
    "best_acc1 = checkpoint['best_acc1'] if not args.finetune else 0\n",
    "model.load_state_dict(checkpoint['state_dict'])\n"
   ]
  },
  {
   "cell_type": "code",
   "execution_count": 9,
   "metadata": {},
   "outputs": [],
   "source": [
    "fft_model = copy.deepcopy(model)"
   ]
  },
  {
   "cell_type": "code",
   "execution_count": 10,
   "metadata": {},
   "outputs": [
    {
     "name": "stdout",
     "output_type": "stream",
     "text": [
      "\n",
      " Validation Acc@1: 93.090 \n",
      "\n"
     ]
    },
    {
     "data": {
      "text/plain": [
       "93.09"
      ]
     },
     "execution_count": 10,
     "metadata": {},
     "output_type": "execute_result"
    }
   ],
   "source": [
    "validate(val_loader, model, criterion, args)"
   ]
  },
  {
   "cell_type": "code",
   "execution_count": 11,
   "metadata": {},
   "outputs": [
    {
     "name": "stdout",
     "output_type": "stream",
     "text": [
      "\n",
      " Validation Acc@1: 93.090 \n",
      "\n"
     ]
    },
    {
     "data": {
      "text/plain": [
       "93.09"
      ]
     },
     "execution_count": 11,
     "metadata": {},
     "output_type": "execute_result"
    }
   ],
   "source": [
    "validate(val_loader, fft_model, criterion, args)"
   ]
  },
  {
   "cell_type": "markdown",
   "metadata": {},
   "source": [
    "### Transforms"
   ]
  },
  {
   "cell_type": "code",
   "execution_count": 11,
   "metadata": {},
   "outputs": [],
   "source": [
    "params_d = dict()\n",
    "names = list()\n",
    "for name, params in model.named_parameters():\n",
    "    names.append(name)\n",
    "    params_d[name] = params"
   ]
  },
  {
   "cell_type": "code",
   "execution_count": 13,
   "metadata": {},
   "outputs": [
    {
     "data": {
      "text/plain": [
       "'module.features.3.weight'"
      ]
     },
     "execution_count": 13,
     "metadata": {},
     "output_type": "execute_result"
    }
   ],
   "source": [
    "names[4]"
   ]
  },
  {
   "cell_type": "code",
   "execution_count": 28,
   "metadata": {},
   "outputs": [],
   "source": [
    "# params_d[names[4]]"
   ]
  },
  {
   "cell_type": "code",
   "execution_count": 19,
   "metadata": {},
   "outputs": [],
   "source": [
    "param_fft = torch.fft.fftn(params_d[names[4]])"
   ]
  },
  {
   "cell_type": "code",
   "execution_count": 27,
   "metadata": {},
   "outputs": [],
   "source": [
    "# torch.isclose(torch.fft.ifftn(param_fft).real, params_d[names[4]])"
   ]
  },
  {
   "cell_type": "code",
   "execution_count": 34,
   "metadata": {},
   "outputs": [],
   "source": [
    "module_d = dict()\n",
    "for name, module in model.named_modules():\n",
    "    if isinstance(module, nn.Conv2d) or isinstance(module, nn.Linear):\n",
    "        module_d[name] = module.weight.data"
   ]
  },
  {
   "cell_type": "code",
   "execution_count": 46,
   "metadata": {},
   "outputs": [
    {
     "name": "stdout",
     "output_type": "stream",
     "text": [
      "512.0\n"
     ]
    }
   ],
   "source": [
    "weight_tensor = module_d[name].flatten()\n",
    "numelem = weight_tensor.shape[0]\n",
    "topk_weights = numelem * 0.1\n",
    "print(topk_weights)"
   ]
  },
  {
   "cell_type": "code",
   "execution_count": 25,
   "metadata": {},
   "outputs": [
    {
     "data": {
      "text/plain": [
       "torch.Size([10, 512])"
      ]
     },
     "execution_count": 25,
     "metadata": {},
     "output_type": "execute_result"
    }
   ],
   "source": [
    "module_d[name].shape"
   ]
  },
  {
   "cell_type": "code",
   "execution_count": 28,
   "metadata": {},
   "outputs": [
    {
     "data": {
      "text/plain": [
       "torch.Size([10, 512])"
      ]
     },
     "execution_count": 28,
     "metadata": {},
     "output_type": "execute_result"
    }
   ],
   "source": [
    "outt = threshold_tensor(module_d[name], sparsity=0.9)\n",
    "outt.shape"
   ]
  },
  {
   "cell_type": "code",
   "execution_count": 12,
   "metadata": {},
   "outputs": [],
   "source": [
    "def threshold_tensor(in_tensor, sparsity=0.9):\n",
    "    t_shape = in_tensor.shape\n",
    "    tensor = in_tensor.flatten()\n",
    "    w_sps_num =  len(tensor) * sparsity\n",
    "    sorted_weights, _ = torch.sort(tensor.abs())\n",
    "    threshold = sorted_weights[:math.ceil(w_sps_num)+1][-1]\n",
    "    sps_tensor = torch.where(abs(tensor) < threshold, torch.tensor(0.0, device=tensor.device), tensor)\n",
    "    out_tensor = sps_tensor.reshape(t_shape)\n",
    "    return out_tensor\n",
    "\n",
    "def get_mask(in_tensor, sparsity=0.9):\n",
    "    out_tensor = threshold_tensor(in_tensor, sparsity=sparsity)\n",
    "    mask = out_tensor > 0.0   \n",
    "    return mask "
   ]
  },
  {
   "cell_type": "code",
   "execution_count": 50,
   "metadata": {},
   "outputs": [],
   "source": [
    "# def model_fft_ifft(model):\n",
    "fft_module = dict()\n",
    "ifft_module = dict()\n",
    "sps_fft = dict()\n",
    "sps_abs_fft = dict()\n",
    "sps = 0.5\n",
    "\n",
    "for name, module in model.named_modules():\n",
    "    if isinstance(module, nn.Conv2d) or isinstance(module, nn.Linear):\n",
    "        fft_module[name] = torch.fft.fft(module.weight.data) # apply FFT\n",
    "        sps_abs_fft[name] = torch.abs(fft_module[name]) # get absolute FFT vales (make real)\n",
    "        sps_mask = get_mask(sps_abs_fft[name], sparsity=sps) # use the normalized real values for getting the topk mask\n",
    "        sps_fft_tensor = fft_module[name] * sps_mask # but mask the actual complex FFT values topk\n",
    "        ifft_module[name] = torch.fft.ifft(sps_fft_tensor).real # IFFT the sparse complex topk and save only the real values\n"
   ]
  },
  {
   "cell_type": "code",
   "execution_count": 51,
   "metadata": {},
   "outputs": [],
   "source": [
    "for name, module in fft_model.named_modules():\n",
    "    if isinstance(module, nn.Conv2d) or isinstance(module, nn.Linear):\n",
    "        module.weight.data = ifft_module[name]"
   ]
  },
  {
   "cell_type": "code",
   "execution_count": 52,
   "metadata": {},
   "outputs": [
    {
     "data": {
      "text/plain": [
       "tensor([[ 6.1433e-03,  2.6787e-03,  8.7375e-03,  ..., -7.8123e-03,\n",
       "          1.2930e-02, -8.0516e-03],\n",
       "        [ 1.6031e-03, -1.8802e-03, -2.0471e-03,  ..., -1.6106e-03,\n",
       "         -1.5061e-03, -7.2228e-04],\n",
       "        [-1.6352e-03, -2.9582e-03,  4.8631e-04,  ...,  3.9759e-03,\n",
       "         -5.9812e-03,  1.5399e-02],\n",
       "        ...,\n",
       "        [ 3.8525e-03, -2.2186e-03,  8.3077e-03,  ...,  1.6121e-04,\n",
       "          4.8145e-04,  3.8776e-03],\n",
       "        [-1.0152e-03, -1.0338e-03,  1.7625e-04,  ...,  5.7871e-04,\n",
       "         -2.7955e-04, -1.6501e-05],\n",
       "        [-6.7887e-04,  2.7948e-04, -2.5118e-04,  ..., -1.1105e-03,\n",
       "          2.9323e-05, -4.7149e-04]], device='cuda:0')"
      ]
     },
     "execution_count": 52,
     "metadata": {},
     "output_type": "execute_result"
    }
   ],
   "source": [
    "model.module.classifier[0].weight.data"
   ]
  },
  {
   "cell_type": "code",
   "execution_count": 53,
   "metadata": {},
   "outputs": [
    {
     "data": {
      "text/plain": [
       "tensor([[ 0.0061,  0.0026,  0.0087,  ..., -0.0077,  0.0130, -0.0080],\n",
       "        [ 0.0012, -0.0015, -0.0011,  ..., -0.0014, -0.0015, -0.0004],\n",
       "        [-0.0016, -0.0030,  0.0005,  ...,  0.0040, -0.0060,  0.0154],\n",
       "        ...,\n",
       "        [ 0.0038, -0.0022,  0.0083,  ...,  0.0001,  0.0006,  0.0038],\n",
       "        [-0.0004, -0.0002, -0.0004,  ..., -0.0003, -0.0004, -0.0003],\n",
       "        [-0.0010, -0.0004, -0.0009,  ..., -0.0010, -0.0003, -0.0009]],\n",
       "       device='cuda:0')"
      ]
     },
     "execution_count": 53,
     "metadata": {},
     "output_type": "execute_result"
    }
   ],
   "source": [
    "fft_model.module.classifier[0].weight.data"
   ]
  },
  {
   "cell_type": "code",
   "execution_count": 54,
   "metadata": {},
   "outputs": [
    {
     "name": "stdout",
     "output_type": "stream",
     "text": [
      "\n",
      " Validation Acc@1: 90.680 \n",
      "\n"
     ]
    },
    {
     "data": {
      "text/plain": [
       "90.68"
      ]
     },
     "execution_count": 54,
     "metadata": {},
     "output_type": "execute_result"
    }
   ],
   "source": [
    "validate(val_loader, fft_model, criterion, args)"
   ]
  },
  {
   "cell_type": "code",
   "execution_count": 55,
   "metadata": {},
   "outputs": [
    {
     "name": "stdout",
     "output_type": "stream",
     "text": [
      "\n",
      " Validation Acc@1: 93.090 \n",
      "\n"
     ]
    },
    {
     "data": {
      "text/plain": [
       "93.09"
      ]
     },
     "execution_count": 55,
     "metadata": {},
     "output_type": "execute_result"
    }
   ],
   "source": [
    "validate(val_loader, model, criterion, args)"
   ]
  },
  {
   "cell_type": "code",
   "execution_count": null,
   "metadata": {},
   "outputs": [],
   "source": []
  }
 ],
 "metadata": {
  "kernelspec": {
   "display_name": "Python 3.9.12 ('exp_3.9')",
   "language": "python",
   "name": "python3"
  },
  "language_info": {
   "codemirror_mode": {
    "name": "ipython",
    "version": 3
   },
   "file_extension": ".py",
   "mimetype": "text/x-python",
   "name": "python",
   "nbconvert_exporter": "python",
   "pygments_lexer": "ipython3",
   "version": "3.9.12"
  },
  "orig_nbformat": 4,
  "vscode": {
   "interpreter": {
    "hash": "66ee137d659de16edc0be2f6baf9f82a68fb03d8de339f7ab7e1a928f7f54d77"
   }
  }
 },
 "nbformat": 4,
 "nbformat_minor": 2
}

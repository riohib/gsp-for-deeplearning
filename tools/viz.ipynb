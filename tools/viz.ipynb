{
 "cells": [
  {
   "cell_type": "code",
   "execution_count": 2,
   "metadata": {},
   "outputs": [],
   "source": [
    "import torch\n",
    "import numpy as np\n",
    "import matplotlib.pyplot as plt\n",
    "import seaborn as sns\n",
    "import pandas as pd"
   ]
  },
  {
   "cell_type": "code",
   "execution_count": 3,
   "metadata": {},
   "outputs": [
    {
     "data": {
      "text/html": [
       "<div>\n",
       "<style scoped>\n",
       "    .dataframe tbody tr th:only-of-type {\n",
       "        vertical-align: middle;\n",
       "    }\n",
       "\n",
       "    .dataframe tbody tr th {\n",
       "        vertical-align: top;\n",
       "    }\n",
       "\n",
       "    .dataframe thead th {\n",
       "        text-align: right;\n",
       "    }\n",
       "</style>\n",
       "<table border=\"1\" class=\"dataframe\">\n",
       "  <thead>\n",
       "    <tr style=\"text-align: right;\">\n",
       "      <th></th>\n",
       "      <th>total_bill</th>\n",
       "      <th>tip</th>\n",
       "      <th>sex</th>\n",
       "      <th>smoker</th>\n",
       "      <th>day</th>\n",
       "      <th>time</th>\n",
       "      <th>size</th>\n",
       "    </tr>\n",
       "  </thead>\n",
       "  <tbody>\n",
       "    <tr>\n",
       "      <th>0</th>\n",
       "      <td>16.99</td>\n",
       "      <td>1.01</td>\n",
       "      <td>Female</td>\n",
       "      <td>No</td>\n",
       "      <td>Sun</td>\n",
       "      <td>Dinner</td>\n",
       "      <td>2</td>\n",
       "    </tr>\n",
       "    <tr>\n",
       "      <th>1</th>\n",
       "      <td>10.34</td>\n",
       "      <td>1.66</td>\n",
       "      <td>Male</td>\n",
       "      <td>No</td>\n",
       "      <td>Sun</td>\n",
       "      <td>Dinner</td>\n",
       "      <td>3</td>\n",
       "    </tr>\n",
       "    <tr>\n",
       "      <th>2</th>\n",
       "      <td>21.01</td>\n",
       "      <td>3.50</td>\n",
       "      <td>Male</td>\n",
       "      <td>No</td>\n",
       "      <td>Sun</td>\n",
       "      <td>Dinner</td>\n",
       "      <td>3</td>\n",
       "    </tr>\n",
       "    <tr>\n",
       "      <th>3</th>\n",
       "      <td>23.68</td>\n",
       "      <td>3.31</td>\n",
       "      <td>Male</td>\n",
       "      <td>No</td>\n",
       "      <td>Sun</td>\n",
       "      <td>Dinner</td>\n",
       "      <td>2</td>\n",
       "    </tr>\n",
       "    <tr>\n",
       "      <th>4</th>\n",
       "      <td>24.59</td>\n",
       "      <td>3.61</td>\n",
       "      <td>Female</td>\n",
       "      <td>No</td>\n",
       "      <td>Sun</td>\n",
       "      <td>Dinner</td>\n",
       "      <td>4</td>\n",
       "    </tr>\n",
       "  </tbody>\n",
       "</table>\n",
       "</div>"
      ],
      "text/plain": [
       "   total_bill   tip     sex smoker  day    time  size\n",
       "0       16.99  1.01  Female     No  Sun  Dinner     2\n",
       "1       10.34  1.66    Male     No  Sun  Dinner     3\n",
       "2       21.01  3.50    Male     No  Sun  Dinner     3\n",
       "3       23.68  3.31    Male     No  Sun  Dinner     2\n",
       "4       24.59  3.61  Female     No  Sun  Dinner     4"
      ]
     },
     "execution_count": 3,
     "metadata": {},
     "output_type": "execute_result"
    }
   ],
   "source": [
    "tips = sns.load_dataset(\"tips\")\n",
    "tips.head()"
   ]
  },
  {
   "cell_type": "code",
   "execution_count": 6,
   "metadata": {},
   "outputs": [],
   "source": [
    "# in_list = deephoyer_comp\n",
    "def comp_to_sps(in_list):\n",
    "    sps = 100 - (1/np.array(in_list) * 100)\n",
    "    sps = list(sps)\n",
    "    return sps\n",
    "\n",
    "# comp_to_sps(in_list)"
   ]
  },
  {
   "cell_type": "code",
   "execution_count": 7,
   "metadata": {},
   "outputs": [
    {
     "data": {
      "text/plain": [
       "25636712"
      ]
     },
     "execution_count": 7,
     "metadata": {},
     "output_type": "execute_result"
    }
   ],
   "source": [
    "Res50Param = 25636712\n",
    "Res50Param"
   ]
  },
  {
   "cell_type": "code",
   "execution_count": 8,
   "metadata": {},
   "outputs": [],
   "source": [
    "gsp_acc = [73.72, 73.5]\n",
    "gsp_acc_dr = list(75.70 - np.array([75.20, 73.19, 71.08]))\n",
    "gsp_sps = [85, 90]"
   ]
  },
  {
   "cell_type": "code",
   "execution_count": 9,
   "metadata": {},
   "outputs": [
    {
     "data": {
      "text/plain": [
       "[67.63754045307442, 78.63247863247864, 81.75182481751824]"
      ]
     },
     "execution_count": 9,
     "metadata": {},
     "output_type": "execute_result"
    }
   ],
   "source": [
    "# DeepHoyer Imagenet\n",
    "deephoyer_acc = [75.20, 73.19, 71.08]\n",
    "deephoyer_acc_dr = list(76.15 - np.array([75.20, 73.19, 71.08]))\n",
    "deephoyer_comp = [3.09, 4.68, 5.48]\n",
    "deephoyer_sps = comp_to_sps(deephoyer_comp)\n",
    "deephoyer_sps"
   ]
  },
  {
   "cell_type": "code",
   "execution_count": 10,
   "metadata": {},
   "outputs": [],
   "source": [
    "# NISP Filter Pruning\n",
    "nisp_acc_dr = [0.21, 0.89]\n",
    "nisp_sps = [27.12, 43.82]"
   ]
  },
  {
   "cell_type": "code",
   "execution_count": 11,
   "metadata": {},
   "outputs": [],
   "source": [
    "# SNIP\n",
    "snip_acc = [73.95, 69.67, 61.97]\n",
    "snip_acc_dr = list(75.70 - np.array(snip_acc))\n",
    "snip_sps = [60, 80, 90]"
   ]
  },
  {
   "cell_type": "code",
   "execution_count": 12,
   "metadata": {},
   "outputs": [],
   "source": [
    "#GraSP\n",
    "grasp_acc = [74.02, 72.06, 68.14]\n",
    "grasp_acc_dr = list(75.70 - np.array(grasp_acc))\n",
    "grasp_sps = [60, 80, 90]"
   ]
  },
  {
   "cell_type": "code",
   "execution_count": 13,
   "metadata": {},
   "outputs": [],
   "source": [
    "# Data Driven Sparse NN Huang 2018\n"
   ]
  },
  {
   "cell_type": "code",
   "execution_count": 14,
   "metadata": {},
   "outputs": [],
   "source": [
    "# Magnitude\n",
    "mag_acc = [71.7, 66.7]\n",
    "mag_acc_dr = list(75.70 - np.array(grasp_acc))\n",
    "mag_sps = [78.5, 89.3]"
   ]
  },
  {
   "cell_type": "code",
   "execution_count": 15,
   "metadata": {},
   "outputs": [
    {
     "data": {
      "text/plain": [
       "[33.72456964006258, 51.56494522691706, 66.1189358372457]"
      ]
     },
     "execution_count": 15,
     "metadata": {},
     "output_type": "execute_result"
    }
   ],
   "source": [
    "# ThiNet A Filter Level Pruning Method for Deep Neural Network Compression\n",
    "thinet_acc = [72.04, 71.01, 68.42]\n",
    "thinet_acc_dr =  list(72.88- np.array(thinet_acc))\n",
    "thinet_comp = [1.58, 2.26, 3.51]\n",
    "thinet_sps = list( (1 - np.array([16.94, 12.38, 8.66]) / 25.56 ) * 100)\n",
    "thinet_sps"
   ]
  },
  {
   "cell_type": "code",
   "execution_count": 16,
   "metadata": {},
   "outputs": [
    {
     "ename": "IndentationError",
     "evalue": "unexpected indent (3927533488.py, line 5)",
     "output_type": "error",
     "traceback": [
      "\u001b[0;36m  File \u001b[0;32m\"/tmp/ipykernel_30642/3927533488.py\"\u001b[0;36m, line \u001b[0;32m5\u001b[0m\n\u001b[0;31m    + thinet_acc_dr + gsp_acc_dr\u001b[0m\n\u001b[0m    ^\u001b[0m\n\u001b[0;31mIndentationError\u001b[0m\u001b[0;31m:\u001b[0m unexpected indent\n"
     ]
    }
   ],
   "source": [
    "methods = [ 'Magnitude', 'DeepHoyer', 'SNIP', 'GraSP', 'ThiNet', 'GSP']\n",
    "\n",
    "acc_vec = mag_acc + deephoyer_acc + snip_acc + grasp_acc + thinet_acc + gsp_acc #+ nisp_acc\n",
    "acc_dr_vec = mag_acc_dr + deephoyer_acc_dr + snip_acc_dr + grasp_acc_dr +\n",
    "                thinet_acc_dr + gsp_acc_dr\n",
    "            # + nisp_acc_dr\n",
    "\n",
    "sps_vec = mag_sps + deephoyer_sps + snip_sps + grasp_sps + thinet_sps + gsp_sps\n",
    "\n",
    "len_data = [len(mag_acc), len(deephoyer_acc), len(snip_acc), len(grasp_acc)\n",
    "                    , en(thinet_acc), len(gsp_acc)]\n",
    "\n",
    "methods_l = list()\n",
    "for num, name in zip(len_data, methods) :\n",
    "     methods_l += [name] * num \n",
    "\n",
    "# methods_l"
   ]
  },
  {
   "cell_type": "code",
   "execution_count": 94,
   "metadata": {},
   "outputs": [],
   "source": [
    "imagenet = {\n",
    "    'Accuracy %': acc_vec,\n",
    "    'Sparsity %': sps_vec,\n",
    "    'Methods': methods_l\n",
    "    }"
   ]
  },
  {
   "cell_type": "code",
   "execution_count": 95,
   "metadata": {},
   "outputs": [
    {
     "data": {
      "text/html": [
       "<div>\n",
       "<style scoped>\n",
       "    .dataframe tbody tr th:only-of-type {\n",
       "        vertical-align: middle;\n",
       "    }\n",
       "\n",
       "    .dataframe tbody tr th {\n",
       "        vertical-align: top;\n",
       "    }\n",
       "\n",
       "    .dataframe thead th {\n",
       "        text-align: right;\n",
       "    }\n",
       "</style>\n",
       "<table border=\"1\" class=\"dataframe\">\n",
       "  <thead>\n",
       "    <tr style=\"text-align: right;\">\n",
       "      <th></th>\n",
       "      <th>Accuracy %</th>\n",
       "      <th>Sparsity %</th>\n",
       "      <th>Methods</th>\n",
       "    </tr>\n",
       "  </thead>\n",
       "  <tbody>\n",
       "    <tr>\n",
       "      <th>0</th>\n",
       "      <td>73.72</td>\n",
       "      <td>85.000000</td>\n",
       "      <td>GSP</td>\n",
       "    </tr>\n",
       "    <tr>\n",
       "      <th>1</th>\n",
       "      <td>73.50</td>\n",
       "      <td>90.000000</td>\n",
       "      <td>GSP</td>\n",
       "    </tr>\n",
       "    <tr>\n",
       "      <th>2</th>\n",
       "      <td>75.20</td>\n",
       "      <td>67.637540</td>\n",
       "      <td>DeepHoyer</td>\n",
       "    </tr>\n",
       "    <tr>\n",
       "      <th>3</th>\n",
       "      <td>73.19</td>\n",
       "      <td>78.632479</td>\n",
       "      <td>DeepHoyer</td>\n",
       "    </tr>\n",
       "    <tr>\n",
       "      <th>4</th>\n",
       "      <td>71.08</td>\n",
       "      <td>81.751825</td>\n",
       "      <td>DeepHoyer</td>\n",
       "    </tr>\n",
       "  </tbody>\n",
       "</table>\n",
       "</div>"
      ],
      "text/plain": [
       "   Accuracy %  Sparsity %    Methods\n",
       "0       73.72   85.000000        GSP\n",
       "1       73.50   90.000000        GSP\n",
       "2       75.20   67.637540  DeepHoyer\n",
       "3       73.19   78.632479  DeepHoyer\n",
       "4       71.08   81.751825  DeepHoyer"
      ]
     },
     "execution_count": 95,
     "metadata": {},
     "output_type": "execute_result"
    }
   ],
   "source": [
    "df = pd.DataFrame(imagenet)\n",
    "df.head()"
   ]
  },
  {
   "cell_type": "code",
   "execution_count": 163,
   "metadata": {},
   "outputs": [
    {
     "data": {
      "image/png": "[encoded data removed]",
      "text/plain": [
       "<Figure size 720x504 with 1 Axes>"
      ]
     },
     "metadata": {},
     "output_type": "display_data"
    }
   ],
   "source": [
    "# plt.figure(figsize=(10,7))\n",
    "fig, ax = plt.subplots(figsize=(10, 7))\n",
    "\n",
    "ax = sns.scatterplot(data=df, x=\"Sparsity %\", y=\"Accuracy %\", hue=\"Methods\", style=\"Methods\", \n",
    "                        s=300)\n",
    "\n",
    "\n",
    "plt.grid(True)\n",
    "plt.xlim([20, 100])\n",
    "plt.ylim([60, 80])\n",
    "\n",
    "\n",
    "ax.tick_params(axis='both', which='major', labelsize=14)\n",
    "\n",
    "# plt.title('Accuracy vs Sparsity of GSP and Concurrent Pruning methods on Imagenet', fontsize=16)\n",
    "# plt.setp(ax.get_legend().get_title(), fontsize='32') # for legend title\n",
    "\n",
    "ax.legend(loc='lower left', markerscale=2)\n",
    "plt.setp(ax.get_legend().get_texts(), fontsize='14') # for legend text\n",
    "\n",
    "\n",
    "plt.rcParams[\"axes.labelsize\"] = 15\n",
    "\n",
    "\n",
    "fig.tight_layout()\n",
    "plt.savefig('imagenet.eps', format='eps')"
   ]
  },
  {
   "cell_type": "code",
   "execution_count": null,
   "metadata": {},
   "outputs": [],
   "source": []
  }
 ],
 "metadata": {
  "interpreter": {
   "hash": "95a80be99c85f7168e962cfd15ef8eaee54987e9a808a4cfe4ee99a80cb38466"
  },
  "kernelspec": {
   "display_name": "Python 3.9.6 64-bit ('imagenet': conda)",
   "name": "python3"
  },
  "language_info": {
   "codemirror_mode": {
    "name": "ipython",
    "version": 3
   },
   "file_extension": ".py",
   "mimetype": "text/x-python",
   "name": "python",
   "nbconvert_exporter": "python",
   "pygments_lexer": "ipython3",
   "version": "3.9.6"
  },
  "orig_nbformat": 4
 },
 "nbformat": 4,
 "nbformat_minor": 2
}

{
 "cells": [
  {
   "cell_type": "code",
   "execution_count": 2,
   "metadata": {},
   "outputs": [],
   "source": [
    "import torch\n",
    "import numpy as np\n",
    "import seaborn as sns\n",
    "import pandas as pd"
   ]
  },
  {
   "cell_type": "code",
   "execution_count": 3,
   "metadata": {},
   "outputs": [
    {
     "data": {
      "text/html": [
       "<div>\n",
       "<style scoped>\n",
       "    .dataframe tbody tr th:only-of-type {\n",
       "        vertical-align: middle;\n",
       "    }\n",
       "\n",
       "    .dataframe tbody tr th {\n",
       "        vertical-align: top;\n",
       "    }\n",
       "\n",
       "    .dataframe thead th {\n",
       "        text-align: right;\n",
       "    }\n",
       "</style>\n",
       "<table border=\"1\" class=\"dataframe\">\n",
       "  <thead>\n",
       "    <tr style=\"text-align: right;\">\n",
       "      <th></th>\n",
       "      <th>total_bill</th>\n",
       "      <th>tip</th>\n",
       "      <th>sex</th>\n",
       "      <th>smoker</th>\n",
       "      <th>day</th>\n",
       "      <th>time</th>\n",
       "      <th>size</th>\n",
       "    </tr>\n",
       "  </thead>\n",
       "  <tbody>\n",
       "    <tr>\n",
       "      <th>0</th>\n",
       "      <td>16.99</td>\n",
       "      <td>1.01</td>\n",
       "      <td>Female</td>\n",
       "      <td>No</td>\n",
       "      <td>Sun</td>\n",
       "      <td>Dinner</td>\n",
       "      <td>2</td>\n",
       "    </tr>\n",
       "    <tr>\n",
       "      <th>1</th>\n",
       "      <td>10.34</td>\n",
       "      <td>1.66</td>\n",
       "      <td>Male</td>\n",
       "      <td>No</td>\n",
       "      <td>Sun</td>\n",
       "      <td>Dinner</td>\n",
       "      <td>3</td>\n",
       "    </tr>\n",
       "    <tr>\n",
       "      <th>2</th>\n",
       "      <td>21.01</td>\n",
       "      <td>3.50</td>\n",
       "      <td>Male</td>\n",
       "      <td>No</td>\n",
       "      <td>Sun</td>\n",
       "      <td>Dinner</td>\n",
       "      <td>3</td>\n",
       "    </tr>\n",
       "    <tr>\n",
       "      <th>3</th>\n",
       "      <td>23.68</td>\n",
       "      <td>3.31</td>\n",
       "      <td>Male</td>\n",
       "      <td>No</td>\n",
       "      <td>Sun</td>\n",
       "      <td>Dinner</td>\n",
       "      <td>2</td>\n",
       "    </tr>\n",
       "    <tr>\n",
       "      <th>4</th>\n",
       "      <td>24.59</td>\n",
       "      <td>3.61</td>\n",
       "      <td>Female</td>\n",
       "      <td>No</td>\n",
       "      <td>Sun</td>\n",
       "      <td>Dinner</td>\n",
       "      <td>4</td>\n",
       "    </tr>\n",
       "  </tbody>\n",
       "</table>\n",
       "</div>"
      ],
      "text/plain": [
       "   total_bill   tip     sex smoker  day    time  size\n",
       "0       16.99  1.01  Female     No  Sun  Dinner     2\n",
       "1       10.34  1.66    Male     No  Sun  Dinner     3\n",
       "2       21.01  3.50    Male     No  Sun  Dinner     3\n",
       "3       23.68  3.31    Male     No  Sun  Dinner     2\n",
       "4       24.59  3.61  Female     No  Sun  Dinner     4"
      ]
     },
     "execution_count": 3,
     "metadata": {},
     "output_type": "execute_result"
    }
   ],
   "source": [
    "tips = sns.load_dataset(\"tips\")\n",
    "tips.head()"
   ]
  },
  {
   "cell_type": "code",
   "execution_count": 15,
   "metadata": {},
   "outputs": [
    {
     "data": {
      "text/plain": [
       "[67.63754045307442, 78.63247863247864, 81.75182481751824]"
      ]
     },
     "execution_count": 15,
     "metadata": {},
     "output_type": "execute_result"
    }
   ],
   "source": [
    "in_list = deephoyer_comp\n",
    "def comp_to_sps(in_list):\n",
    "    sps = 100 - (1/np.array(in_list) * 100)\n",
    "    sps = list(sps)\n",
    "    return sps\n",
    "\n",
    "comp_to_sps(in_list)"
   ]
  },
  {
   "cell_type": "code",
   "execution_count": 27,
   "metadata": {},
   "outputs": [
    {
     "data": {
      "text/plain": [
       "25636712"
      ]
     },
     "execution_count": 27,
     "metadata": {},
     "output_type": "execute_result"
    }
   ],
   "source": [
    "Res50Param = 25636712\n",
    "Res50Param"
   ]
  },
  {
   "cell_type": "code",
   "execution_count": 42,
   "metadata": {},
   "outputs": [],
   "source": [
    "gsp_acc = [73.72, 73.5]\n",
    "gsp_acc_dr = list(75.70 - np.array([75.20, 73.19, 71.08]))\n",
    "gsp_sps = [85, 90]"
   ]
  },
  {
   "cell_type": "code",
   "execution_count": 22,
   "metadata": {},
   "outputs": [
    {
     "data": {
      "text/plain": [
       "[67.63754045307442, 78.63247863247864, 81.75182481751824]"
      ]
     },
     "execution_count": 22,
     "metadata": {},
     "output_type": "execute_result"
    }
   ],
   "source": [
    "# DeepHoyer Imagenet\n",
    "deephoyer_acc = [75.20, 73.19, 71.08]\n",
    "deephoyer_acc_dr = list(76.15 - np.array([75.20, 73.19, 71.08]))\n",
    "deephoyer_comp = [3.09, 4.68, 5.48]\n",
    "deephoyer_sps = comp_to_sps(deephoyer_comp)\n",
    "deephoyer_sps"
   ]
  },
  {
   "cell_type": "code",
   "execution_count": 54,
   "metadata": {},
   "outputs": [],
   "source": [
    "# NISP Filter Pruning\n",
    "nisp_acc_dr = [0.21, 0.89]\n",
    "nisp_sps = [27.12, 43.82]"
   ]
  },
  {
   "cell_type": "code",
   "execution_count": 55,
   "metadata": {},
   "outputs": [],
   "source": [
    "# SNIP\n",
    "snip_acc = [73.95, 69.67, 61.97]\n",
    "snip_acc_dr = list(75.70 - np.array(snip_acc))\n",
    "snip_sps = [60, 80, 90]"
   ]
  },
  {
   "cell_type": "code",
   "execution_count": 56,
   "metadata": {},
   "outputs": [],
   "source": [
    "#GraSP\n",
    "grasp_acc = [74.02, 72.06, 68.14]\n",
    "grasp_acc_dr = list(75.70 - np.array(grasp_acc))\n",
    "grasp_sps = [60, 80, 90]"
   ]
  },
  {
   "cell_type": "code",
   "execution_count": null,
   "metadata": {},
   "outputs": [],
   "source": [
    "# Data Driven Sparse NN Huang 2018\n"
   ]
  },
  {
   "cell_type": "code",
   "execution_count": null,
   "metadata": {},
   "outputs": [],
   "source": []
  },
  {
   "cell_type": "code",
   "execution_count": 63,
   "metadata": {},
   "outputs": [
    {
     "data": {
      "text/plain": [
       "[33.72456964006258, 51.56494522691706, 66.1189358372457]"
      ]
     },
     "execution_count": 63,
     "metadata": {},
     "output_type": "execute_result"
    }
   ],
   "source": [
    "# ThiNet A Filter Level Pruning Method for Deep Neural Network Compression\n",
    "thinet_acc = [72.04, 71.01, 68.42]\n",
    "thinet_acc_dr =  list(72.88- np.array(thinet_acc))\n",
    "thinet_comp = [1.58, 2.26, 3.51]\n",
    "thinet_sps = list( (1 - np.array([16.94, 12.38, 8.66]) / 25.56 ) * 100)\n",
    "thinet_sps"
   ]
  },
  {
   "cell_type": "code",
   "execution_count": 64,
   "metadata": {},
   "outputs": [
    {
     "name": "stdout",
     "output_type": "stream",
     "text": [
      "(2, 'GSP')\n",
      "(3, 'DeepHoyer')\n",
      "(3, 'SNIP')\n",
      "(3, 'GraSP')\n",
      "(3, 'ThiNet')\n"
     ]
    }
   ],
   "source": [
    "methods = ['GSP', 'DeepHoyer', 'SNIP', 'GraSP', 'ThiNet']\n",
    "\n",
    "acc_vec = gsp_acc + deephoyer_acc + snip_acc + grasp_acc + thinet_acc #+ nisp_acc\n",
    "acc_dr_vec = gsp_acc_dr + deephoyer_acc_dr + snip_acc_dr + grasp_acc_dr + thinet_acc_dr \n",
    "            # + nisp_acc_dr\n",
    "\n",
    "sps_vec = gsp_sps + deephoyer_sps + snip_sps + grasp_sps + thinet_sps\n",
    "\n",
    "len_data = [len(gsp_acc), len(deephoyer_acc), len(snip_acc), len(grasp_acc)\n",
    "                    , len(thinet_acc)]\n",
    "\n",
    "methods_l = list()\n",
    "for num, name in zip(len_data, methods) :\n",
    "    methods_l.append(  )"
   ]
  },
  {
   "cell_type": "code",
   "execution_count": 51,
   "metadata": {},
   "outputs": [
    {
     "data": {
      "text/plain": [
       "[73.72,\n",
       " 73.5,\n",
       " 75.2,\n",
       " 73.19,\n",
       " 71.08,\n",
       " 73.95,\n",
       " 69.67,\n",
       " 61.97,\n",
       " 74.02,\n",
       " 72.06,\n",
       " 68.14,\n",
       " 72.04,\n",
       " 71.01,\n",
       " 68.42]"
      ]
     },
     "execution_count": 51,
     "metadata": {},
     "output_type": "execute_result"
    }
   ],
   "source": []
  },
  {
   "cell_type": "code",
   "execution_count": 41,
   "metadata": {},
   "outputs": [],
   "source": [
    "\n",
    "# sns.scatterplot(data=tips, x=\"total_bill\", y=\"tip\", hue=\"time\", style=\"time\")"
   ]
  },
  {
   "cell_type": "code",
   "execution_count": null,
   "metadata": {},
   "outputs": [],
   "source": []
  }
 ],
 "metadata": {
  "interpreter": {
   "hash": "95a80be99c85f7168e962cfd15ef8eaee54987e9a808a4cfe4ee99a80cb38466"
  },
  "kernelspec": {
   "display_name": "Python 3.9.6 64-bit ('imagenet': conda)",
   "name": "python3"
  },
  "language_info": {
   "codemirror_mode": {
    "name": "ipython",
    "version": 3
   },
   "file_extension": ".py",
   "mimetype": "text/x-python",
   "name": "python",
   "nbconvert_exporter": "python",
   "pygments_lexer": "ipython3",
   "version": "3.9.6"
  },
  "orig_nbformat": 4
 },
 "nbformat": 4,
 "nbformat_minor": 2
}

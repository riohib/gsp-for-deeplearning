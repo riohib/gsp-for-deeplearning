{
 "cells": [
  {
   "cell_type": "markdown",
   "metadata": {},
   "source": [
    "## Imagenet Plot"
   ]
  },
  {
   "cell_type": "code",
   "execution_count": 1,
   "metadata": {},
   "outputs": [],
   "source": [
    "import torch\n",
    "import numpy as np\n",
    "import matplotlib.pyplot as plt\n",
    "import seaborn as sns\n",
    "import pandas as pd"
   ]
  },
  {
   "cell_type": "code",
   "execution_count": 2,
   "metadata": {},
   "outputs": [
    {
     "data": {
      "text/html": [
       "<div>\n",
       "<style scoped>\n",
       "    .dataframe tbody tr th:only-of-type {\n",
       "        vertical-align: middle;\n",
       "    }\n",
       "\n",
       "    .dataframe tbody tr th {\n",
       "        vertical-align: top;\n",
       "    }\n",
       "\n",
       "    .dataframe thead th {\n",
       "        text-align: right;\n",
       "    }\n",
       "</style>\n",
       "<table border=\"1\" class=\"dataframe\">\n",
       "  <thead>\n",
       "    <tr style=\"text-align: right;\">\n",
       "      <th></th>\n",
       "      <th>total_bill</th>\n",
       "      <th>tip</th>\n",
       "      <th>sex</th>\n",
       "      <th>smoker</th>\n",
       "      <th>day</th>\n",
       "      <th>time</th>\n",
       "      <th>size</th>\n",
       "    </tr>\n",
       "  </thead>\n",
       "  <tbody>\n",
       "    <tr>\n",
       "      <th>0</th>\n",
       "      <td>16.99</td>\n",
       "      <td>1.01</td>\n",
       "      <td>Female</td>\n",
       "      <td>No</td>\n",
       "      <td>Sun</td>\n",
       "      <td>Dinner</td>\n",
       "      <td>2</td>\n",
       "    </tr>\n",
       "    <tr>\n",
       "      <th>1</th>\n",
       "      <td>10.34</td>\n",
       "      <td>1.66</td>\n",
       "      <td>Male</td>\n",
       "      <td>No</td>\n",
       "      <td>Sun</td>\n",
       "      <td>Dinner</td>\n",
       "      <td>3</td>\n",
       "    </tr>\n",
       "    <tr>\n",
       "      <th>2</th>\n",
       "      <td>21.01</td>\n",
       "      <td>3.50</td>\n",
       "      <td>Male</td>\n",
       "      <td>No</td>\n",
       "      <td>Sun</td>\n",
       "      <td>Dinner</td>\n",
       "      <td>3</td>\n",
       "    </tr>\n",
       "    <tr>\n",
       "      <th>3</th>\n",
       "      <td>23.68</td>\n",
       "      <td>3.31</td>\n",
       "      <td>Male</td>\n",
       "      <td>No</td>\n",
       "      <td>Sun</td>\n",
       "      <td>Dinner</td>\n",
       "      <td>2</td>\n",
       "    </tr>\n",
       "    <tr>\n",
       "      <th>4</th>\n",
       "      <td>24.59</td>\n",
       "      <td>3.61</td>\n",
       "      <td>Female</td>\n",
       "      <td>No</td>\n",
       "      <td>Sun</td>\n",
       "      <td>Dinner</td>\n",
       "      <td>4</td>\n",
       "    </tr>\n",
       "  </tbody>\n",
       "</table>\n",
       "</div>"
      ],
      "text/plain": [
       "   total_bill   tip     sex smoker  day    time  size\n",
       "0       16.99  1.01  Female     No  Sun  Dinner     2\n",
       "1       10.34  1.66    Male     No  Sun  Dinner     3\n",
       "2       21.01  3.50    Male     No  Sun  Dinner     3\n",
       "3       23.68  3.31    Male     No  Sun  Dinner     2\n",
       "4       24.59  3.61  Female     No  Sun  Dinner     4"
      ]
     },
     "execution_count": 2,
     "metadata": {},
     "output_type": "execute_result"
    }
   ],
   "source": [
    "\n",
    "tips = sns.load_dataset(\"tips\")\n",
    "tips.head()"
   ]
  },
  {
   "cell_type": "code",
   "execution_count": 3,
   "metadata": {},
   "outputs": [
    {
     "data": {
      "text/plain": [
       "[80.0]"
      ]
     },
     "execution_count": 3,
     "metadata": {},
     "output_type": "execute_result"
    }
   ],
   "source": [
    "# in_list = deephoyer_comp\n",
    "def comp_to_sps(in_list):\n",
    "    sps = 100 - (1/np.array(in_list) * 100)\n",
    "    sps = list(sps)\n",
    "    return sps\n",
    "\n",
    "# comp_to_sps(in_list)\n",
    "comp_to_sps([5])"
   ]
  },
  {
   "cell_type": "code",
   "execution_count": 4,
   "metadata": {},
   "outputs": [
    {
     "data": {
      "text/plain": [
       "25636712"
      ]
     },
     "execution_count": 4,
     "metadata": {},
     "output_type": "execute_result"
    }
   ],
   "source": [
    "Res50Param = 25636712\n",
    "Res50Param"
   ]
  },
  {
   "cell_type": "code",
   "execution_count": 43,
   "metadata": {},
   "outputs": [],
   "source": [
    "gsp_acc = [75.284, 74.894, 74.262, 73.5]\n",
    "gsp_acc_dr = list(75.70 - np.array(gsp_acc))\n",
    "gsp_sps = [70, 80, 85, 90]"
   ]
  },
  {
   "cell_type": "code",
   "execution_count": 44,
   "metadata": {},
   "outputs": [
    {
     "data": {
      "text/plain": [
       "[0.4159999999999968, 0.8059999999999974, 1.4380000000000024, 2.200000000000003]"
      ]
     },
     "execution_count": 44,
     "metadata": {},
     "output_type": "execute_result"
    }
   ],
   "source": [
    "gsp_acc_dr"
   ]
  },
  {
   "cell_type": "code",
   "execution_count": 6,
   "metadata": {},
   "outputs": [],
   "source": [
    "# DeepHoyer Imagenet\n",
    "deephoyer_acc = [75.20, 73.19, 71.08]\n",
    "deephoyer_acc_dr = list(76.15 - np.array(deephoyer_acc))\n",
    "deephoyer_comp = [3.09, 4.68, 5.48]\n",
    "deephoyer_sps = comp_to_sps(deephoyer_comp)\n",
    "# deephoyer_sps"
   ]
  },
  {
   "cell_type": "code",
   "execution_count": 7,
   "metadata": {},
   "outputs": [],
   "source": [
    "# SNIP\n",
    "snip_acc = [73.95, 69.67, 61.97]\n",
    "snip_acc_dr = list(75.70 - np.array(snip_acc))\n",
    "snip_sps = [60, 80, 90]"
   ]
  },
  {
   "cell_type": "code",
   "execution_count": 8,
   "metadata": {},
   "outputs": [],
   "source": [
    "#GraSP\n",
    "grasp_acc = [74.02, 72.06, 68.14]\n",
    "grasp_acc_dr = list(75.70 - np.array(grasp_acc))\n",
    "grasp_sps = [60, 80, 90]"
   ]
  },
  {
   "cell_type": "code",
   "execution_count": 9,
   "metadata": {},
   "outputs": [],
   "source": [
    "# Data Driven Sparse NN Huang 2018\n"
   ]
  },
  {
   "cell_type": "code",
   "execution_count": 10,
   "metadata": {},
   "outputs": [],
   "source": [
    "# Magnitude\n",
    "mag_acc = [71.7, 66.7]\n",
    "mag_acc_dr = list(75.70 - np.array(mag_acc))\n",
    "mag_sps = [78.5, 89.3]"
   ]
  },
  {
   "cell_type": "code",
   "execution_count": 11,
   "metadata": {},
   "outputs": [
    {
     "data": {
      "text/plain": [
       "[33.72456964006258, 51.56494522691706, 66.1189358372457]"
      ]
     },
     "execution_count": 11,
     "metadata": {},
     "output_type": "execute_result"
    }
   ],
   "source": [
    "# ThiNet A Filter Level Pruning Method for Deep Neural Network Compression\n",
    "thinet_acc = [72.04, 71.01, 68.42]\n",
    "thinet_acc_dr =  list(72.88- np.array(thinet_acc))\n",
    "thinet_comp = [1.58, 2.26, 3.51]\n",
    "thinet_sps = list( (1 - np.array([16.94, 12.38, 8.66]) / 25.56 ) * 100)\n",
    "thinet_sps"
   ]
  },
  {
   "cell_type": "code",
   "execution_count": 12,
   "metadata": {},
   "outputs": [
    {
     "data": {
      "text/plain": [
       "[78.5, 83.2, 89.3]"
      ]
     },
     "execution_count": 12,
     "metadata": {},
     "output_type": "execute_result"
    }
   ],
   "source": [
    "# SYNFLOW\n",
    "synflow_acc = [72, 70.8, 68]\n",
    "synflow_acc_dr =  list(76.80- np.array(synflow_acc))\n",
    "synflow_comp = ''\n",
    "synflow_sps = [78.5, 83.2, 89.3 ]\n",
    "synflow_sps\n"
   ]
  },
  {
   "cell_type": "code",
   "execution_count": 13,
   "metadata": {},
   "outputs": [],
   "source": [
    "# NISP Filter Pruning\n",
    "nisp_acc = [(75.88-0.21), (72.88-0.89)] #These numbers are not accurate\n",
    "nisp_acc_dr = [0.21, 0.89]\n",
    "nisp_sps = [27.12, 43.82]"
   ]
  },
  {
   "cell_type": "code",
   "execution_count": 14,
   "metadata": {},
   "outputs": [],
   "source": [
    "# AMC: AutoML for Model Compression and Acceleration on Mobile Devices (He et all 2018)\n",
    "amc_acc = [76.11]\n",
    "amc_acc_dr = [1.06]\n",
    "amc_sps = [80.0]"
   ]
  },
  {
   "cell_type": "code",
   "execution_count": 15,
   "metadata": {},
   "outputs": [],
   "source": [
    "# Discrimination-aware Channel Pruning for Deep Neural Networks (Zhuang et al 2018)\n",
    "dcp_acc = [72.88]\n",
    "dcp_acc_dr = [1.06]\n",
    "dcp_sps = [51.4]"
   ]
  },
  {
   "cell_type": "code",
   "execution_count": 37,
   "metadata": {},
   "outputs": [],
   "source": [
    "methods = ['GSP', 'SynFlow', 'Magnitude', 'DeepHoyer', 'SNIP', 'GraSP', 'ThiNet', \n",
    "          'NISP', 'DCP'] # 'AMC (RL-based)'\n",
    "\n",
    "acc_vec = gsp_acc + synflow_acc + mag_acc + deephoyer_acc + snip_acc + grasp_acc + thinet_acc \\\n",
    "          + nisp_acc + dcp_acc # + amc_acc\n",
    "acc_dr_vec = gsp_acc_dr + synflow_acc_dr + mag_acc_dr + deephoyer_acc_dr + snip_acc_dr + \\\n",
    "            grasp_acc_dr + thinet_acc_dr + nisp_acc_dr + dcp_acc_dr # + amc_acc_dr \n",
    "neg_acc_dr_vec = [-x for x in acc_dr_vec] #Negate all the values since drop\n",
    "\n",
    "sps_vec = gsp_sps + synflow_sps + mag_sps + deephoyer_sps + snip_sps + grasp_sps + thinet_sps \\\n",
    "          + nisp_sps + dcp_sps # + amc_sps\n",
    "\n",
    "len_data = [len(gsp_acc), len(synflow_acc), len(mag_acc), len(deephoyer_acc), len(snip_acc), \n",
    "          len(grasp_acc), len(thinet_acc), len(nisp_acc), len(dcp_acc)] #len(amc_acc),\n",
    "\n",
    "methods_l = list()\n",
    "for num, name in zip(len_data, methods) :\n",
    "     methods_l += [name] * num \n",
    "\n",
    "# methods_l"
   ]
  },
  {
   "cell_type": "code",
   "execution_count": 38,
   "metadata": {},
   "outputs": [
    {
     "name": "stdout",
     "output_type": "stream",
     "text": [
      "24\n",
      "24\n",
      "24\n",
      "9\n",
      "24\n"
     ]
    }
   ],
   "source": [
    "print(len(acc_vec))\n",
    "print(len(neg_acc_dr_vec))\n",
    "print(len(sps_vec))\n",
    "print(len(len_data))\n",
    "print(len(methods_l))"
   ]
  },
  {
   "cell_type": "code",
   "execution_count": 39,
   "metadata": {},
   "outputs": [],
   "source": [
    "imagenet = {\n",
    "    'Accuracy %': acc_vec,\n",
    "    'Accuracy $\\Delta$ %': neg_acc_dr_vec,\n",
    "    'Sparsity %': sps_vec,\n",
    "    'Methods': methods_l\n",
    "    }"
   ]
  },
  {
   "cell_type": "code",
   "execution_count": 40,
   "metadata": {},
   "outputs": [
    {
     "data": {
      "text/html": [
       "<div>\n",
       "<style scoped>\n",
       "    .dataframe tbody tr th:only-of-type {\n",
       "        vertical-align: middle;\n",
       "    }\n",
       "\n",
       "    .dataframe tbody tr th {\n",
       "        vertical-align: top;\n",
       "    }\n",
       "\n",
       "    .dataframe thead th {\n",
       "        text-align: right;\n",
       "    }\n",
       "</style>\n",
       "<table border=\"1\" class=\"dataframe\">\n",
       "  <thead>\n",
       "    <tr style=\"text-align: right;\">\n",
       "      <th></th>\n",
       "      <th>Accuracy %</th>\n",
       "      <th>Accuracy $\\Delta$ %</th>\n",
       "      <th>Sparsity %</th>\n",
       "      <th>Methods</th>\n",
       "    </tr>\n",
       "  </thead>\n",
       "  <tbody>\n",
       "    <tr>\n",
       "      <th>0</th>\n",
       "      <td>75.284</td>\n",
       "      <td>-0.416</td>\n",
       "      <td>70.0</td>\n",
       "      <td>GSP</td>\n",
       "    </tr>\n",
       "    <tr>\n",
       "      <th>1</th>\n",
       "      <td>74.894</td>\n",
       "      <td>-0.806</td>\n",
       "      <td>80.0</td>\n",
       "      <td>GSP</td>\n",
       "    </tr>\n",
       "    <tr>\n",
       "      <th>2</th>\n",
       "      <td>74.262</td>\n",
       "      <td>-1.438</td>\n",
       "      <td>85.0</td>\n",
       "      <td>GSP</td>\n",
       "    </tr>\n",
       "    <tr>\n",
       "      <th>3</th>\n",
       "      <td>73.500</td>\n",
       "      <td>-2.200</td>\n",
       "      <td>90.0</td>\n",
       "      <td>GSP</td>\n",
       "    </tr>\n",
       "    <tr>\n",
       "      <th>4</th>\n",
       "      <td>72.000</td>\n",
       "      <td>-4.800</td>\n",
       "      <td>78.5</td>\n",
       "      <td>SynFlow</td>\n",
       "    </tr>\n",
       "  </tbody>\n",
       "</table>\n",
       "</div>"
      ],
      "text/plain": [
       "   Accuracy %  Accuracy $\\Delta$ %  Sparsity %  Methods\n",
       "0      75.284               -0.416        70.0      GSP\n",
       "1      74.894               -0.806        80.0      GSP\n",
       "2      74.262               -1.438        85.0      GSP\n",
       "3      73.500               -2.200        90.0      GSP\n",
       "4      72.000               -4.800        78.5  SynFlow"
      ]
     },
     "execution_count": 40,
     "metadata": {},
     "output_type": "execute_result"
    }
   ],
   "source": [
    "df = pd.DataFrame(imagenet)\n",
    "df.head()"
   ]
  },
  {
   "cell_type": "code",
   "execution_count": 41,
   "metadata": {},
   "outputs": [],
   "source": [
    "plt.style.use('seaborn')"
   ]
  },
  {
   "cell_type": "code",
   "execution_count": 80,
   "metadata": {},
   "outputs": [
    {
     "data": {
      "image/png": "[encoded data removed]",
      "text/plain": [
       "<Figure size 720x504 with 1 Axes>"
      ]
     },
     "metadata": {},
     "output_type": "display_data"
    }
   ],
   "source": [
    "# plt.figure(figsize=(10,7))\n",
    "fig, ax = plt.subplots(figsize=(10, 7))\n",
    "\n",
    "ax = sns.scatterplot(data=df, x=\"Sparsity %\", y=\"Accuracy %\", hue=\"Methods\", style=\"Methods\", \n",
    "                        s=300)\n",
    "plt.grid(True)\n",
    "plt.xlim([20, 100])\n",
    "plt.ylim([60, 80])\n",
    "\n",
    "ax.tick_params(axis='both', which='major', labelsize=14)\n",
    "\n",
    "# plt.title('Accuracy vs Sparsity of GSP and Concurrent Pruning methods on Imagenet', fontsize=16)\n",
    "# plt.setp(ax.get_legend().get_title(), fontsize='32') # for legend title\n",
    "\n",
    "ax.legend(loc='lower left', markerscale=2)\n",
    "plt.setp(ax.get_legend().get_texts(), fontsize='14') # for legend text\n",
    "\n",
    "plt.rcParams[\"axes.labelsize\"] = 15\n",
    "\n",
    "fig.tight_layout()\n",
    "plt.savefig('imagenet.eps', format='eps')"
   ]
  },
  {
   "cell_type": "code",
   "execution_count": 42,
   "metadata": {},
   "outputs": [
    {
     "data": {
      "image/png": "[encoded data removed]",
      "text/plain": [
       "<Figure size 720x504 with 1 Axes>"
      ]
     },
     "metadata": {},
     "output_type": "display_data"
    }
   ],
   "source": [
    "# plt.figure(figsize=(10,7))\n",
    "fig, ax = plt.subplots(figsize=(10, 7))\n",
    "\n",
    "ax = sns.scatterplot(data=df, x=\"Sparsity %\", y=\"Accuracy $\\Delta$ %\", hue=\"Methods\", \n",
    "                     style=\"Methods\", s=300)\n",
    "\n",
    "plt.grid(True)\n",
    "plt.xlim([20, 100])\n",
    "plt.ylim([-15, 5])\n",
    "\n",
    "ax.tick_params(axis='both', which='major', labelsize=14)\n",
    "\n",
    "# plt.title('Accuracy vs Sparsity of GSP and Concurrent Pruning methods on Imagenet', fontsize=16)\n",
    "# plt.setp(ax.get_legend().get_title(), fontsize='32') # for legend title\n",
    "\n",
    "ax.legend(loc='lower left', scatteryoffsets=[0.61], markerscale=1.6)\n",
    "plt.setp(ax.get_legend().get_texts(), fontsize='14') # for legend text\n",
    "\n",
    "plt.rcParams[\"axes.labelsize\"] = 15\n",
    "\n",
    "fig.tight_layout()\n",
    "plt.savefig('imagenet_drop.eps', format='eps')\n",
    "plt.savefig('imagenet_drop.jpeg', format='jpeg')"
   ]
  },
  {
   "cell_type": "markdown",
   "metadata": {},
   "source": [
    "#### SINGLE SHOT GSP"
   ]
  },
  {
   "cell_type": "markdown",
   "metadata": {},
   "source": []
  }
 ],
 "metadata": {
  "interpreter": {
   "hash": "95a80be99c85f7168e962cfd15ef8eaee54987e9a808a4cfe4ee99a80cb38466"
  },
  "kernelspec": {
   "display_name": "Python 3.9.6 64-bit ('imagenet': conda)",
   "name": "python3"
  },
  "language_info": {
   "codemirror_mode": {
    "name": "ipython",
    "version": 3
   },
   "file_extension": ".py",
   "mimetype": "text/x-python",
   "name": "python",
   "nbconvert_exporter": "python",
   "pygments_lexer": "ipython3",
   "version": "3.9.6"
  },
  "orig_nbformat": 4
 },
 "nbformat": 4,
 "nbformat_minor": 2
}

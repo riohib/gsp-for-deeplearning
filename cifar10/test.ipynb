{
 "cells": [
  {
   "cell_type": "code",
   "execution_count": 1,
   "metadata": {},
   "outputs": [],
   "source": [
    "%load_ext autoreload\n",
    "%autoreload 2"
   ]
  },
  {
   "cell_type": "code",
   "execution_count": 2,
   "metadata": {},
   "outputs": [],
   "source": [
    "import argparse\n",
    "import os\n",
    "import shutil\n",
    "import time\n",
    "\n",
    "import torch\n",
    "import torch.nn as nn\n",
    "import torch.nn.parallel\n",
    "import torch.backends.cudnn as cudnn\n",
    "import torch.optim\n",
    "import torch.utils.data\n",
    "import torchvision.transforms as transforms\n",
    "import torchvision.datasets as datasets\n",
    "import numpy as np\n",
    "\n",
    "from datetime import datetime\n",
    "import torchvision.models as models\n",
    "import networks.load as load\n",
    "\n",
    "\n",
    "import sys \n",
    "sys.path.append('..')\n",
    "from utils_gsp.logger import Logger\n",
    "# from utils_gsp import sps_tools\n",
    "from gsp_model import GSP_Model\n",
    "import utils_gsp.gsp_general as gsp_gen\n",
    "import tools.ipynb_funcs as utilfuncs\n",
    "import tools.visualization as viz\n",
    "\n",
    "from torch.utils.tensorboard import SummaryWriter\n",
    "import matplotlib.pyplot as plt\n",
    "\n",
    "from main import train, validate, accuracy, save_checkpoint, setup_experiment, gsp_sparse_training, AverageMeter"
   ]
  },
  {
   "cell_type": "code",
   "execution_count": 3,
   "metadata": {},
   "outputs": [],
   "source": [
    "class Args:\n",
    "    arch = 'resnet20'\n",
    "    workers = 4\n",
    "    epochs=160\n",
    "    start_epoch=0\n",
    "    batch_size = 128\n",
    "    lr = 0.1\n",
    "    momentum = 0.9\n",
    "    weight_decay=1e-4\n",
    "    print_freq = 50\n",
    "    resume = False\n",
    "    evaluate = False\n",
    "    pretrained = False\n",
    "    half = False\n",
    "    exp_name = 'gsp_test'\n",
    "\n",
    "    gpu=None\n",
    "    logdir = '/logdir'\n",
    "    gsp_training = True \n",
    "    gsp_sps = 0.8\n",
    "    scheduled_sps_run = True\n",
    "    proj_filters = False\n",
    "    proj_model = False\n",
    "    gsp_int = 150\n",
    "    gsp_start_ep = -1\n",
    "    finetune = False\n",
    "    finetune_sps = 0.9\n",
    "\n",
    "\n",
    "global args, best_acc1\n",
    "args = Args\n",
    "# writer = SummaryWriter()"
   ]
  },
  {
   "cell_type": "code",
   "execution_count": 4,
   "metadata": {},
   "outputs": [],
   "source": [
    "# args.resume = './results/gspS0.9/gsp/model_best.pth.tar' # LOAD GSP MODEL\n",
    "\n",
    "# args.resume = './results/gspS0.80/fine_0.9/model_best.pth.tar'\n",
    "# args.finetune = True"
   ]
  },
  {
   "cell_type": "code",
   "execution_count": 42,
   "metadata": {},
   "outputs": [
    {
     "name": "stdout",
     "output_type": "stream",
     "text": [
      "\n",
      " input logdir: ./results/gsp_test/logdir \n",
      "\n",
      "\n",
      " RETURNED FILE LOGGER! \n",
      "\n",
      "Files already downloaded and verified\n",
      "The sparsity of the model is: 0.26\n"
     ]
    }
   ],
   "source": [
    "# torch.manual_seed(0)\n",
    "# Setup the experiment\n",
    "flogger = setup_experiment(args)\n",
    "args.logger.log_cmd_arguments(args)\n",
    "\n",
    "# model = torch.nn.DataParallel(resnet.__dict__[args.arch]())\n",
    "# model = VGG('D')\n",
    "model = load.model(args.arch)\n",
    "model.cuda()\n",
    "\n",
    "model_gsp = GSP_Model(model)\n",
    "\n",
    "if args.finetune:\n",
    "    flogger.info(15*\"*\" + \" Model will be finetuned!! \" + 15*\"*\")\n",
    "    model_gsp.prune_and_mask_model(sps=args.finetune_sps)\n",
    "    \n",
    "# optionally resume from a checkpoint\n",
    "if args.resume:\n",
    "    if os.path.isfile(args.resume):\n",
    "        print(\"=> loading checkpoint '{}'\".format(args.resume))\n",
    "        checkpoint = torch.load(args.resume)\n",
    "        args.start_epoch = checkpoint['epoch']\n",
    "        best_acc1 = checkpoint['best_acc1']\n",
    "        model_gsp.model.load_state_dict(checkpoint['state_dict'])\n",
    "        print(\"=> loaded checkpoint '{}' (epoch {})\"\n",
    "                .format(args.evaluate, checkpoint['epoch']))\n",
    "    else:\n",
    "        print(\"=> no checkpoint found at '{}'\".format(args.resume))\n",
    "\n",
    "cudnn.benchmark = True\n",
    "\n",
    "normalize = transforms.Normalize(mean=[0.485, 0.456, 0.406],\n",
    "                                    std=[0.229, 0.224, 0.225])\n",
    "\n",
    "train_loader = torch.utils.data.DataLoader(\n",
    "    datasets.CIFAR10(root='./data', train=True, transform=transforms.Compose([\n",
    "        transforms.RandomHorizontalFlip(),\n",
    "        transforms.RandomCrop(32, 4),\n",
    "        transforms.ToTensor(),\n",
    "        normalize,\n",
    "    ]), download=True),\n",
    "    batch_size=args.batch_size, shuffle=True,\n",
    "    num_workers=args.workers, pin_memory=True)\n",
    "\n",
    "val_loader = torch.utils.data.DataLoader(\n",
    "    datasets.CIFAR10(root='./data', train=False, transform=transforms.Compose([\n",
    "        transforms.ToTensor(),\n",
    "        normalize,\n",
    "    ])),\n",
    "    batch_size=128, shuffle=False,\n",
    "    num_workers=args.workers, pin_memory=True)\n",
    "\n",
    "\n",
    "# ----------------------- Make a GSP Model -----------------------\n",
    "print(f\"The sparsity of the model is: {model_gsp.get_model_sps():.2f}\")\n",
    "args.writer = SummaryWriter(log_dir=f'results/{args.exp_name}/runs/{datetime.now().strftime(\"%m-%d_%H:%M\")}')\n",
    "\n",
    "# define loss function (criterion) and optimizer\n",
    "criterion = nn.CrossEntropyLoss().cuda()\n",
    "\n",
    "optimizer = torch.optim.SGD(model.parameters(), args.lr,\n",
    "                            momentum=args.momentum,\n",
    "                            weight_decay=args.weight_decay)\n",
    "\n",
    "# ============================ Setup GSP model ============================\n",
    "if args.gsp_training:\n",
    "    gsp_sparse_training(model_gsp, train_loader, args)\n",
    "    flogger.info(15*\"*\" + \" Model will be trained with GSP Sparsity!! \" + 15*\"*\" )"
   ]
  },
  {
   "cell_type": "code",
   "execution_count": 6,
   "metadata": {},
   "outputs": [],
   "source": [
    "# for name, layer in model.named_modules():\n",
    "#     if isinstance(layer, nn.Conv2d) or isinstance(layer, nn.Linear):\n",
    "#         print(f\"Name: {name} | shape: {layer.weight.shape}\")"
   ]
  },
  {
   "cell_type": "code",
   "execution_count": 43,
   "metadata": {},
   "outputs": [],
   "source": [
    "names, weight_l, shape_l, weight_d, layers_d = utilfuncs.get_model_layers(model)"
   ]
  },
  {
   "cell_type": "code",
   "execution_count": 44,
   "metadata": {},
   "outputs": [],
   "source": [
    "def random_prune(self, sps=0.95):\n",
    "    for name, layer in model_gsp.model.named_modules():\n",
    "        if isinstance(layer, nn.Conv2d) or isinstance(layer, nn.Linear):\n",
    "            num = layer.weight.data.numel()\n",
    "            num_zero = int(round(num*sps))\n",
    "            indices = torch.randperm(num)[:num_zero]\n",
    "            layer.weight.data.flatten()[[indices]] = 0.\n",
    "            # print(layer.weight.shape)"
   ]
  },
  {
   "cell_type": "code",
   "execution_count": 45,
   "metadata": {},
   "outputs": [
    {
     "name": "stdout",
     "output_type": "stream",
     "text": [
      "Model Sparsity: 89.79 %\n"
     ]
    }
   ],
   "source": [
    "model_gsp.print_model_sps()"
   ]
  },
  {
   "cell_type": "code",
   "execution_count": 24,
   "metadata": {},
   "outputs": [],
   "source": [
    "mytensor = weight_d[names[0]]\n",
    "\n",
    "n = mytensor.numel()\n",
    "m = int(round(n*0.6))\n",
    "indices = torch.randperm(n)[:m]\n",
    "\n"
   ]
  },
  {
   "cell_type": "code",
   "execution_count": 30,
   "metadata": {},
   "outputs": [],
   "source": [
    "mytensor.flatten()[[indices]] = 0."
   ]
  },
  {
   "cell_type": "code",
   "execution_count": 31,
   "metadata": {},
   "outputs": [
    {
     "data": {
      "text/plain": [
       "tensor([[[[ 0.0000e+00,  0.0000e+00,  0.0000e+00],\n",
       "          [ 1.0591e-01,  0.0000e+00, -3.9859e-01],\n",
       "          [ 0.0000e+00,  2.1624e-01,  0.0000e+00]],\n",
       "\n",
       "         [[ 0.0000e+00,  0.0000e+00, -1.6816e-01],\n",
       "          [-1.5996e-01,  0.0000e+00,  0.0000e+00],\n",
       "          [-1.6005e-01,  0.0000e+00,  5.7319e-01]],\n",
       "\n",
       "         [[ 0.0000e+00,  0.0000e+00,  3.3461e-01],\n",
       "          [-7.7171e-02,  0.0000e+00,  0.0000e+00],\n",
       "          [ 9.4491e-02, -1.6816e-01, -4.3890e-01]]],\n",
       "\n",
       "\n",
       "        [[[ 0.0000e+00,  0.0000e+00,  1.2645e-01],\n",
       "          [ 0.0000e+00, -1.8461e-02, -3.2836e-01],\n",
       "          [ 0.0000e+00,  0.0000e+00, -3.5386e-01]],\n",
       "\n",
       "         [[ 0.0000e+00,  2.6042e-01,  1.6740e-01],\n",
       "          [ 0.0000e+00,  0.0000e+00,  5.7339e-02],\n",
       "          [ 0.0000e+00,  0.0000e+00,  0.0000e+00]],\n",
       "\n",
       "         [[ 0.0000e+00,  6.8927e-02,  0.0000e+00],\n",
       "          [ 0.0000e+00,  0.0000e+00,  0.0000e+00],\n",
       "          [ 0.0000e+00,  0.0000e+00,  0.0000e+00]]],\n",
       "\n",
       "\n",
       "        [[[ 0.0000e+00,  0.0000e+00,  0.0000e+00],\n",
       "          [-2.2748e-02, -8.0377e-02, -2.2494e-01],\n",
       "          [-2.2494e-01, -5.0000e-01, -2.8687e-02]],\n",
       "\n",
       "         [[ 0.0000e+00,  0.0000e+00,  0.0000e+00],\n",
       "          [ 5.2432e-01,  4.4191e-02,  0.0000e+00],\n",
       "          [ 1.8656e-01, -2.7295e-01,  0.0000e+00]],\n",
       "\n",
       "         [[ 0.0000e+00,  0.0000e+00,  0.0000e+00],\n",
       "          [ 0.0000e+00,  1.3068e-01, -3.6135e-01],\n",
       "          [ 2.3781e-01,  0.0000e+00, -2.1335e-01]]],\n",
       "\n",
       "\n",
       "        [[[ 5.7085e-01,  0.0000e+00,  1.5495e-01],\n",
       "          [ 0.0000e+00,  0.0000e+00,  1.5324e-01],\n",
       "          [ 0.0000e+00,  0.0000e+00,  0.0000e+00]],\n",
       "\n",
       "         [[ 0.0000e+00,  0.0000e+00,  0.0000e+00],\n",
       "          [ 0.0000e+00, -2.1110e-01,  0.0000e+00],\n",
       "          [ 0.0000e+00, -1.5990e-02, -2.6963e-01]],\n",
       "\n",
       "         [[ 0.0000e+00, -2.0280e-01,  0.0000e+00],\n",
       "          [ 0.0000e+00,  0.0000e+00, -1.2691e-01],\n",
       "          [ 0.0000e+00,  0.0000e+00, -2.3279e-01]]],\n",
       "\n",
       "\n",
       "        [[[-1.7902e-01,  0.0000e+00, -1.1352e-01],\n",
       "          [ 2.1518e-01,  0.0000e+00,  0.0000e+00],\n",
       "          [-2.2485e-01,  3.1920e-01,  0.0000e+00]],\n",
       "\n",
       "         [[ 0.0000e+00,  0.0000e+00,  2.5431e-02],\n",
       "          [-2.4936e-01,  0.0000e+00,  0.0000e+00],\n",
       "          [ 2.7415e-01,  0.0000e+00,  0.0000e+00]],\n",
       "\n",
       "         [[ 0.0000e+00,  0.0000e+00, -1.4946e-01],\n",
       "          [ 0.0000e+00,  0.0000e+00,  0.0000e+00],\n",
       "          [ 0.0000e+00,  0.0000e+00,  0.0000e+00]]],\n",
       "\n",
       "\n",
       "        [[[ 0.0000e+00,  0.0000e+00,  0.0000e+00],\n",
       "          [-1.1262e-01,  0.0000e+00,  0.0000e+00],\n",
       "          [ 2.6770e-01,  1.0164e-01,  0.0000e+00]],\n",
       "\n",
       "         [[ 0.0000e+00,  1.0990e-01, -5.0857e-01],\n",
       "          [ 3.3344e-03,  0.0000e+00, -2.8780e-01],\n",
       "          [ 0.0000e+00, -1.9987e-01,  0.0000e+00]],\n",
       "\n",
       "         [[ 0.0000e+00,  0.0000e+00,  8.6236e-02],\n",
       "          [ 1.5086e-01,  0.0000e+00,  0.0000e+00],\n",
       "          [ 0.0000e+00,  0.0000e+00,  0.0000e+00]]],\n",
       "\n",
       "\n",
       "        [[[-6.4254e-02, -5.4623e-01,  2.8531e-01],\n",
       "          [ 2.6343e-01,  0.0000e+00,  1.6897e-01],\n",
       "          [ 0.0000e+00,  2.6968e-01,  0.0000e+00]],\n",
       "\n",
       "         [[-1.5186e-02,  1.0512e-01, -3.8759e-02],\n",
       "          [ 0.0000e+00,  0.0000e+00,  0.0000e+00],\n",
       "          [ 0.0000e+00,  1.5817e-01,  0.0000e+00]],\n",
       "\n",
       "         [[ 0.0000e+00,  3.1090e-02,  0.0000e+00],\n",
       "          [ 3.0541e-01,  0.0000e+00,  0.0000e+00],\n",
       "          [ 0.0000e+00,  1.1031e-01,  0.0000e+00]]],\n",
       "\n",
       "\n",
       "        [[[ 0.0000e+00,  0.0000e+00,  1.4906e-01],\n",
       "          [ 0.0000e+00, -1.6751e-01,  0.0000e+00],\n",
       "          [ 0.0000e+00,  0.0000e+00,  1.4139e-01]],\n",
       "\n",
       "         [[ 0.0000e+00,  0.0000e+00,  4.9021e-02],\n",
       "          [ 2.3915e-01,  3.3652e-01,  0.0000e+00],\n",
       "          [ 0.0000e+00,  1.2002e-01,  0.0000e+00]],\n",
       "\n",
       "         [[ 0.0000e+00, -4.0834e-01,  0.0000e+00],\n",
       "          [ 0.0000e+00,  2.2776e-01, -5.5783e-02],\n",
       "          [ 0.0000e+00,  1.3593e-01,  0.0000e+00]]],\n",
       "\n",
       "\n",
       "        [[[ 2.3338e-01,  6.4565e-01,  0.0000e+00],\n",
       "          [ 0.0000e+00,  0.0000e+00,  0.0000e+00],\n",
       "          [ 0.0000e+00,  0.0000e+00,  0.0000e+00]],\n",
       "\n",
       "         [[ 0.0000e+00,  8.5519e-02,  4.3249e-01],\n",
       "          [ 0.0000e+00,  4.4662e-02,  0.0000e+00],\n",
       "          [ 0.0000e+00,  0.0000e+00,  0.0000e+00]],\n",
       "\n",
       "         [[ 0.0000e+00,  0.0000e+00,  0.0000e+00],\n",
       "          [ 0.0000e+00,  0.0000e+00, -1.9462e-01],\n",
       "          [-1.3504e-01, -4.4791e-02,  0.0000e+00]]],\n",
       "\n",
       "\n",
       "        [[[ 2.2945e-01,  0.0000e+00,  0.0000e+00],\n",
       "          [ 0.0000e+00,  4.2971e-02,  0.0000e+00],\n",
       "          [-2.5451e-01, -4.0440e-02, -2.4551e-01]],\n",
       "\n",
       "         [[-7.6936e-02,  3.2064e-01,  0.0000e+00],\n",
       "          [ 1.1102e-01,  4.2706e-01,  2.2902e-01],\n",
       "          [ 0.0000e+00,  0.0000e+00, -6.5421e-01]],\n",
       "\n",
       "         [[ 0.0000e+00,  0.0000e+00, -2.4538e-01],\n",
       "          [ 1.5482e-01,  0.0000e+00, -2.2503e-01],\n",
       "          [ 0.0000e+00,  0.0000e+00,  5.0636e-02]]],\n",
       "\n",
       "\n",
       "        [[[ 0.0000e+00,  0.0000e+00,  0.0000e+00],\n",
       "          [ 7.4531e-02,  0.0000e+00,  0.0000e+00],\n",
       "          [-2.4384e-01,  0.0000e+00, -6.2644e-02]],\n",
       "\n",
       "         [[ 0.0000e+00, -4.8106e-01, -3.5906e-01],\n",
       "          [ 0.0000e+00,  0.0000e+00,  5.9119e-01],\n",
       "          [ 6.0245e-02,  0.0000e+00,  0.0000e+00]],\n",
       "\n",
       "         [[-6.2278e-02,  0.0000e+00, -1.1417e-01],\n",
       "          [ 0.0000e+00,  0.0000e+00,  6.9908e-02],\n",
       "          [ 0.0000e+00,  0.0000e+00, -3.2195e-01]]],\n",
       "\n",
       "\n",
       "        [[[-1.5211e-01,  0.0000e+00,  0.0000e+00],\n",
       "          [ 0.0000e+00,  0.0000e+00,  0.0000e+00],\n",
       "          [ 0.0000e+00,  0.0000e+00, -5.1383e-01]],\n",
       "\n",
       "         [[ 0.0000e+00,  0.0000e+00,  0.0000e+00],\n",
       "          [ 0.0000e+00,  0.0000e+00, -4.1018e-04],\n",
       "          [-1.5865e-02,  0.0000e+00, -1.2009e-01]],\n",
       "\n",
       "         [[ 0.0000e+00,  1.0521e-01, -6.1066e-02],\n",
       "          [-5.0943e-01,  2.0320e-01, -1.5569e-01],\n",
       "          [-4.0005e-01,  0.0000e+00, -6.0538e-01]]],\n",
       "\n",
       "\n",
       "        [[[ 5.3144e-01,  8.2392e-02, -3.4546e-01],\n",
       "          [ 2.3773e-01,  0.0000e+00,  0.0000e+00],\n",
       "          [-3.6394e-01,  0.0000e+00,  0.0000e+00]],\n",
       "\n",
       "         [[-4.2305e-01,  2.2101e-01,  0.0000e+00],\n",
       "          [ 0.0000e+00,  0.0000e+00,  3.1088e-01],\n",
       "          [ 0.0000e+00,  0.0000e+00,  0.0000e+00]],\n",
       "\n",
       "         [[ 0.0000e+00,  0.0000e+00,  1.4862e-01],\n",
       "          [ 0.0000e+00, -1.6486e-01, -3.1348e-01],\n",
       "          [ 0.0000e+00, -4.8657e-03, -3.9840e-01]]],\n",
       "\n",
       "\n",
       "        [[[ 0.0000e+00,  3.4006e-01,  0.0000e+00],\n",
       "          [ 2.6511e-01, -1.1675e-01,  0.0000e+00],\n",
       "          [-1.7960e-01,  1.3203e-01, -2.2033e-02]],\n",
       "\n",
       "         [[ 0.0000e+00,  0.0000e+00,  0.0000e+00],\n",
       "          [-6.1972e-01,  1.1421e-01,  0.0000e+00],\n",
       "          [ 0.0000e+00,  0.0000e+00,  0.0000e+00]],\n",
       "\n",
       "         [[ 8.2402e-01,  0.0000e+00,  0.0000e+00],\n",
       "          [ 0.0000e+00, -2.2254e-01,  0.0000e+00],\n",
       "          [ 0.0000e+00, -1.5524e-01,  0.0000e+00]]],\n",
       "\n",
       "\n",
       "        [[[ 0.0000e+00,  0.0000e+00,  0.0000e+00],\n",
       "          [ 0.0000e+00,  0.0000e+00, -6.7165e-02],\n",
       "          [ 0.0000e+00,  3.2530e-01,  0.0000e+00]],\n",
       "\n",
       "         [[ 0.0000e+00,  0.0000e+00, -2.9571e-01],\n",
       "          [ 0.0000e+00,  0.0000e+00,  0.0000e+00],\n",
       "          [ 0.0000e+00,  0.0000e+00,  0.0000e+00]],\n",
       "\n",
       "         [[ 6.8933e-02,  0.0000e+00,  0.0000e+00],\n",
       "          [-6.6001e-01, -1.0547e-01,  0.0000e+00],\n",
       "          [ 3.6206e-01,  0.0000e+00,  1.2233e-01]]],\n",
       "\n",
       "\n",
       "        [[[ 0.0000e+00,  2.2466e-01,  0.0000e+00],\n",
       "          [-3.7414e-01,  0.0000e+00,  4.9996e-01],\n",
       "          [-5.9781e-01, -2.2094e-01,  0.0000e+00]],\n",
       "\n",
       "         [[ 0.0000e+00,  0.0000e+00,  2.3345e-01],\n",
       "          [ 0.0000e+00,  0.0000e+00,  0.0000e+00],\n",
       "          [ 1.7017e-01,  0.0000e+00,  0.0000e+00]],\n",
       "\n",
       "         [[ 0.0000e+00,  0.0000e+00,  0.0000e+00],\n",
       "          [ 3.6532e-01,  0.0000e+00,  0.0000e+00],\n",
       "          [ 0.0000e+00,  0.0000e+00,  2.3504e-01]]]], device='cuda:0')"
      ]
     },
     "execution_count": 31,
     "metadata": {},
     "output_type": "execute_result"
    }
   ],
   "source": [
    "mytensor"
   ]
  },
  {
   "cell_type": "code",
   "execution_count": 7,
   "metadata": {},
   "outputs": [],
   "source": [
    "model_gsp.scheduled_sps_run = True\n",
    "model_gsp.total_epochs = 10"
   ]
  },
  {
   "cell_type": "code",
   "execution_count": 13,
   "metadata": {},
   "outputs": [
    {
     "name": "stderr",
     "output_type": "stream",
     "text": [
      "[W pthreadpool-cpp.cc:90] Warning: Leaking Caffe2 thread-pool after fork. (function pthreadpool)\n",
      "[W pthreadpool-cpp.cc:90] Warning: Leaking Caffe2 thread-pool after fork. (function pthreadpool)\n",
      "[W pthreadpool-cpp.cc:90] Warning: Leaking Caffe2 thread-pool after fork. (function pthreadpool)\n",
      "[W pthreadpool-cpp.cc:90] Warning: Leaking Caffe2 thread-pool after fork. (function pthreadpool)\n"
     ]
    },
    {
     "name": "stdout",
     "output_type": "stream",
     "text": [
      "Projecting layers with GSP!! | GSP_Mode: True\n",
      "Projecting layers with GSP!! | GSP_Mode: True\n",
      "Projecting layers with GSP!! | GSP_Mode: True\n"
     ]
    }
   ],
   "source": [
    "args.epoch = 10\n",
    "train(train_loader, model_gsp, criterion, optimizer, 0, args, gsp_mode=True)\n",
    "# validate(val_loader, model, criterion, args)"
   ]
  },
  {
   "cell_type": "code",
   "execution_count": null,
   "metadata": {},
   "outputs": [],
   "source": [
    "model_gsp.get_model_sps()\n",
    "model_gsp.print_model_sps()\n",
    "model_gsp.proj_filters=True"
   ]
  },
  {
   "cell_type": "code",
   "execution_count": null,
   "metadata": {},
   "outputs": [],
   "source": [
    "# model_gsp.prune_and_mask_model(sps=0.9)"
   ]
  },
  {
   "cell_type": "markdown",
   "metadata": {},
   "source": [
    "## Global GSP"
   ]
  },
  {
   "cell_type": "code",
   "execution_count": null,
   "metadata": {},
   "outputs": [],
   "source": [
    "def project_all_layers(self, sps):\n",
    "    layer_d = dict()\n",
    "    shape_d = dict()\n",
    "    ctr = 0\n",
    "    for name, layer in model.named_modules():\n",
    "        if isinstance(layer, nn.Conv2d) or isinstance(layer, nn.Linear):\n",
    "            shape_d[name] = layer.weight.shape\n",
    "            layer_d[ctr] = layer.weight.data.detach().clone().flatten()\n",
    "            ctr+=1\n",
    "\n",
    "    xp_mat, ni_list = gsp_gen.GSP(layer_d, sps=sps)\n",
    "    out_layers = gsp_gen.unpad_output_mat(xp_mat, ni_list)\n",
    "\n",
    "    # rebuild_network\n",
    "    ctr = 0\n",
    "    for name, layer in model.named_modules():\n",
    "        if isinstance(layer, nn.Conv2d) or isinstance(layer, nn.Linear):\n",
    "            layer.weight.data = out_layers[ctr].reshape(shape_d[name])\n",
    "            ctr += 1"
   ]
  },
  {
   "cell_type": "code",
   "execution_count": null,
   "metadata": {},
   "outputs": [],
   "source": [
    "project_all_layers(model_gsp, sps=0.85)"
   ]
  },
  {
   "cell_type": "code",
   "execution_count": null,
   "metadata": {},
   "outputs": [],
   "source": []
  },
  {
   "cell_type": "code",
   "execution_count": null,
   "metadata": {},
   "outputs": [],
   "source": [
    "def padded_sparsity(matrix, ni_list):\n",
    "    \"\"\"\n",
    "    This Hoyer Sparsity Calculation is for matrices with the end of the columns that are padded. Hence,\n",
    "    it needs the information of how much of each columns are elements and how much of them are padded.\n",
    "    ni_list: Contains the number of values in each column (rest are padded with zero).\n",
    "    \"\"\"\n",
    "\n",
    "    ni = matrix.shape[0]\n",
    "    device = matrix.device\n",
    "    ni_tensor = torch.tensor(ni_list).to(device)\n",
    "\n",
    "    # Get Indices of all zero vector columns.\n",
    "    zero_col_ind = (abs(matrix.sum(0) - 0) < 2.22e-16).nonzero().view(-1)  \n",
    "    spx_c = (torch.sqrt(ni_tensor) - torch.norm(matrix,1, dim=0) / torch.norm(matrix,2, dim=0)) / (torch.sqrt(ni_tensor) - 1)\n",
    "    if len(zero_col_ind) != 0:\n",
    "        spx_c[zero_col_ind] = 1  # Sparsity = 1 if column already zero vector.\n",
    "    \n",
    "    if matrix.dim() > 1:   \n",
    "        sps_avg = spx_c.mean()\n",
    "    elif matrix.dim() == 1:  # If not a matrix but a column vector!\n",
    "        sps_avg =  spx_c    \n",
    "    return sps_avg"
   ]
  },
  {
   "cell_type": "markdown",
   "metadata": {},
   "source": [
    "## MODEL VISUALIZATION"
   ]
  },
  {
   "cell_type": "code",
   "execution_count": null,
   "metadata": {},
   "outputs": [],
   "source": [
    "names, weight_l, shape_l, weight_d, layers_d = utilfuncs.get_model_layers(model)"
   ]
  },
  {
   "cell_type": "code",
   "execution_count": null,
   "metadata": {},
   "outputs": [],
   "source": [
    "layers_d[names[0]].weight.data.detach().device"
   ]
  },
  {
   "cell_type": "code",
   "execution_count": null,
   "metadata": {},
   "outputs": [],
   "source": [
    "# viz.plot_weight_dist(model, title='Resnet20 Distribution', arch='resnet20', \n",
    "#                     filename='./results/gspS0.80/fine_0.9/w_dist.png')"
   ]
  },
  {
   "cell_type": "code",
   "execution_count": null,
   "metadata": {},
   "outputs": [],
   "source": [
    "def apply_gsp_prune(model_gsp, sps=0.8):\n",
    "    model_gsp.force_apply_gsp(sps)\n",
    "    print(f\"SPS after gsp application: {model_gsp.get_model_sps():.2f}\")\n",
    "    \n",
    "    model_gsp.prune_and_mask_model(sps)\n",
    "    print(f\"SPS after pruning: {model_gsp.get_model_sps():.2f}\")\n"
   ]
  },
  {
   "cell_type": "code",
   "execution_count": null,
   "metadata": {},
   "outputs": [],
   "source": [
    "apply_gsp_prune(model_gsp, sps=0.9)"
   ]
  },
  {
   "cell_type": "markdown",
   "metadata": {},
   "source": [
    "## Randomg Testing"
   ]
  },
  {
   "cell_type": "code",
   "execution_count": null,
   "metadata": {},
   "outputs": [],
   "source": [
    "# a = torch.ones((3,3,2,2))\n",
    "# a[0,1,:,:] = 2\n",
    "# a[0,2,:,:] = 3\n",
    "\n",
    "# a[1,0,:,:] = 4\n",
    "# a[1,1,:,:] = 5\n",
    "# a[1,2,:,:] = 6\n",
    "\n",
    "# a[2,0,:,:] = 7\n",
    "# a[2,1,:,:] = 8\n",
    "# a[2,2,:,:] = 9"
   ]
  }
 ],
 "metadata": {
  "interpreter": {
   "hash": "95a80be99c85f7168e962cfd15ef8eaee54987e9a808a4cfe4ee99a80cb38466"
  },
  "kernelspec": {
   "display_name": "Python 3.9.6 64-bit ('imagenet': conda)",
   "name": "python3"
  },
  "language_info": {
   "codemirror_mode": {
    "name": "ipython",
    "version": 3
   },
   "file_extension": ".py",
   "mimetype": "text/x-python",
   "name": "python",
   "nbconvert_exporter": "python",
   "pygments_lexer": "ipython3",
   "version": "3.9.6"
  },
  "orig_nbformat": 4
 },
 "nbformat": 4,
 "nbformat_minor": 2
}

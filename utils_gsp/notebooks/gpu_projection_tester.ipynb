{
 "cells": [
  {
   "cell_type": "code",
   "execution_count": 1,
   "metadata": {},
   "outputs": [],
   "source": [
    "import torch\n",
    "import numpy as np\n",
    "from numpy import linalg as LA\n",
    "import pickle\n",
    "import scipy.io\n",
    "import logging\n",
    "import pdb\n",
    "import time\n",
    "import sys\n",
    "sys.path.append(\"..\")\n",
    "import matplotlib.pyplot as plt"
   ]
  },
  {
   "cell_type": "code",
   "execution_count": 2,
   "metadata": {},
   "outputs": [],
   "source": [
    "device = torch.device('cuda' if torch.cuda.is_available() else 'cpu')\n"
   ]
  },
  {
   "cell_type": "code",
   "execution_count": 3,
   "metadata": {},
   "outputs": [],
   "source": [
    "def sparsity(matrix):\n",
    "    matrix = matrix.detach().clone()\n",
    "    ni = torch.tensor(matrix.shape[0], device=matrix.device)\n",
    "\n",
    "    # Get Indices of columns with all-0 vectors.\n",
    "    zero_col_ind = (abs(matrix.sum(0) - 0) < 2.22e-16).nonzero().reshape(-1)  \n",
    "    spx_c = (torch.sqrt(ni) - torch.norm(matrix,1, dim=0) / torch.norm(matrix,2, dim=0)) / (torch.sqrt(ni) - 1)\n",
    "\n",
    "    if len(zero_col_ind) != 0:\n",
    "        spx_c[zero_col_ind] = 1  # Sparsity = 1 if column already zero vector.\n",
    "    \n",
    "    if matrix.dim() > 1:   \n",
    "        # sps_avg =  spx_c.sum() / matrix.shape[1]\n",
    "        sps_avg = spx_c.mean()\n",
    "    elif matrix.dim() == 1:  # If not a matrix but a column vector!\n",
    "        sps_avg =  spx_c    \n",
    "    return sps_avg"
   ]
  },
  {
   "cell_type": "code",
   "execution_count": 4,
   "metadata": {},
   "outputs": [],
   "source": [
    "def checkCritical(matrix, critval_list, precision=1e-6):\n",
    "    max_elems = torch.max(matrix, 0)[0]\n",
    "\n",
    "    ind_crit_bool = (abs(matrix - max_elems) < precision)\n",
    "    crit_points = matrix * ind_crit_bool\n",
    "\n",
    "    num_crit_points = torch.sum(ind_crit_bool, dim=0)\n",
    "\n",
    "    # Boolean of vector cols with non-trivial critical values\n",
    "    crit_cols = torch.where((num_crit_points.float() > 1).cuda(device), torch.ones(matrix.shape[1], device=device), \\\n",
    "                            torch.zeros(matrix.shape[1], device=device))\n",
    "\n",
    "    # getting non-trivial critical values\n",
    "    critval_list = max_elems[crit_cols.bool()]\n",
    "\n",
    "    return critval_list, max_elems"
   ]
  },
  {
   "cell_type": "code",
   "execution_count": 5,
   "metadata": {},
   "outputs": [],
   "source": [
    "# torch.where(num_crit_points.float() > 1, arg1, arg2)"
   ]
  },
  {
   "cell_type": "code",
   "execution_count": 6,
   "metadata": {},
   "outputs": [],
   "source": [
    "def gmu(matrix, xp_mat, mu=0):\n",
    "    vgmu = 0\n",
    "    gradg = 0\n",
    "    matrix = torch.abs(matrix)\n",
    "    xp_mat = torch.zeros([matrix.shape[0], matrix.shape[1]]).to(device)\n",
    "    glist = []\n",
    "\n",
    "    gsp_iter = 0\n",
    "\n",
    "    # ------------------------------- Previous For Loop --------------------------------------\n",
    "    ni = matrix.shape[0]\n",
    "    betai = 1 / (torch.sqrt(torch.tensor(ni, dtype=torch.float32, device=device)) - 1)\n",
    "\n",
    "    xp_mat = matrix - (mu * betai)\n",
    "    indtp = xp_mat > 0\n",
    "\n",
    "    xp_mat.relu_()\n",
    "\n",
    "    # outputs\n",
    "    mnorm = torch.norm(xp_mat, dim=0)\n",
    "    mnorm_inf = mnorm.clone()\n",
    "    mnorm_inf[mnorm_inf == 0] = float(\"Inf\")\n",
    "\n",
    "    col_norm_mask = (mnorm > 0)\n",
    "\n",
    "    # mat_mask =  (col_norm_mask.float().view(1,784) * torch.ones(300,1))\n",
    "    mat_mask = (col_norm_mask.float().view(1, matrix.shape[1]) * torch.ones(matrix.shape[0], 1,device=device))\n",
    "\n",
    "    nip = torch.sum(xp_mat > 0, dim=0)  # columnwise number of values > 0\n",
    "\n",
    "    # needs the if condition mnorm> 0 (it's included)\n",
    "    # Terms in the Gradient Calculation\n",
    "    term2 = torch.pow(torch.sum(xp_mat, dim=0), 2)\n",
    "    mnorm_inv = torch.pow(mnorm_inf, -1)\n",
    "    mnorm_inv3 = torch.pow(mnorm_inf, -3)\n",
    "\n",
    "    # The column vectors with norm mnorm == 0 zero, should not contribute to the gradient sum.\n",
    "    # In the published algorithm, we only calculate gradients for condition: mnorm> 0\n",
    "    # To vectorize, we include in the matrix columns where mnorm == 0, but we manually replace\n",
    "    # the inf after divide by zero with 0, so that the grad of that column becomes 0 and\n",
    "    # doesn't contribute to the sum.\n",
    "    # mnorm_inv[torch.isinf(mnorm_inv)] = 0\n",
    "    # mnorm_inv3[torch.isinf(mnorm_inv3)] = 0\n",
    "\n",
    "    # Calculate Gradient\n",
    "    gradg_mat = torch.pow(betai, 2) * (-nip * mnorm_inv + term2 * mnorm_inv3)\n",
    "    gradg = torch.sum(gradg_mat)\n",
    "\n",
    "    # vgmu calculation\n",
    "    ## When indtp is not empty (the columns whose norm are not zero)\n",
    "    # xp_mat /= mnorm\n",
    "    xp_mat[:, col_norm_mask] /= mnorm[col_norm_mask]\n",
    "\n",
    "    ## When indtp IS empty (the columns whose norm ARE zero)\n",
    "    max_elem_rows = torch.argmax(matrix, dim=0)[~col_norm_mask]  # The Row Indices where maximum of that column occurs\n",
    "    xp_mat[max_elem_rows, ~col_norm_mask] = 1\n",
    "\n",
    "    # vgmu computation\n",
    "    vgmu_mat = betai * torch.sum(xp_mat, dim=0)\n",
    "    vgmu = torch.sum(vgmu_mat)\n",
    "\n",
    "    return vgmu, xp_mat, gradg"
   ]
  },
  {
   "cell_type": "code",
   "execution_count": 103,
   "metadata": {},
   "outputs": [],
   "source": [
    "def groupedsparseproj(matrix, sps, precision=1e-6, linrat=0.9):\n",
    "    # sps = 0.9 ;  precision=1e-6; linrat=0.9\n",
    "    global device\n",
    "    # print(f\"The device from GPU-proj matrix: {str(matrix.device)}\")\n",
    "    if str(matrix.device) != 'cpu':\n",
    "        device = torch.device('cuda')\n",
    "        # print(\"The device is cuda\")\n",
    "    if str(matrix.device) == 'cpu':\n",
    "        device = torch.device('cpu')\n",
    "        # print(\"The device is cpu\")\n",
    "    if str(matrix.device) == 'cpu':\n",
    "        print(\"Device neither CPU nor CUDA! Please check!\")\n",
    "\n",
    "    epsilon = 10e-15\n",
    "    k = 0\n",
    "    muup0 = 0\n",
    "    r = matrix.shape[1]  # No of Columns\n",
    "\n",
    "    critmu = torch.tensor([])\n",
    "    critval_list = []\n",
    "\n",
    "    vgmu = torch.zeros(1, device=device)\n",
    "    # maxxi_list = []\n",
    "\n",
    "    # These operations were inside the loop, but doesn't need to be.\n",
    "    matrix_sign = torch.sign(matrix)\n",
    "    pos_matrix = matrix_sign * matrix\n",
    "    xp_mat = torch.zeros([matrix.shape[0], matrix.shape[1]]).to(device)\n",
    "    ni = matrix.shape[0]\n",
    "\n",
    "    # -------------------------------------------------------------------------------\n",
    "    # Check Critical Points\n",
    "    k = r * np.sqrt(ni) / (np.sqrt(ni) - 1)\n",
    "    # check critical values of mu where g(mu) is discontinuous, that is,\n",
    "    # where the two (or more) largest entries of x{i} are equal to one another.\n",
    "    critical_val, max_xi = checkCritical(pos_matrix, critval_list)\n",
    "    muup0 = max(max_xi * (np.sqrt(ni) - 1))\n",
    "    critmu = torch.tensor(critval_list) * (np.sqrt(ni) - 1)\n",
    "\n",
    "    k = k - r * sps\n",
    "    vgmu, xp_mat, gradg = gmu(pos_matrix, xp_mat, 0)\n",
    "\n",
    "    if vgmu < k:\n",
    "        xp_mat = matrix\n",
    "        gxpmu = vgmu\n",
    "        numiter = 0\n",
    "        print(f\"Feasible at iter: {numiter}\")\n",
    "        return xp_mat, 'No Info'\n",
    "    else:\n",
    "        numiter = 0\n",
    "        mulow = 0\n",
    "        glow = vgmu\n",
    "        muup = muup0\n",
    "        # Initialization on mu using 0, it seems to work best because the\n",
    "        # slope at zero is rather steep while it is gets falt for large mu\n",
    "        newmu = 0\n",
    "        gnew = glow\n",
    "        gpnew = gradg  # g'(0)\n",
    "        delta = muup - mulow\n",
    "        switch = True\n",
    "\n",
    "        # pdb.set_trace()\n",
    "        while abs(gnew - k) > precision * r and numiter < 100:\n",
    "            oldmu = newmu\n",
    "            # % Secant method:\n",
    "            # % newmu = mulow + (k-glow)*(muup-mulow)/(gup-glow);\n",
    "\n",
    "            # % Bisection:\n",
    "            # % newmu = (muup+mulow)/2;\n",
    "            # % Newton:\n",
    "            newmu = oldmu + (k - gnew) / (gpnew + epsilon)\n",
    "\n",
    "            if (newmu >= muup) or (newmu <= mulow):  # If Newton goes out of the interval, use bisection\n",
    "                newmu = (mulow + muup) / 2\n",
    "\n",
    "            # print( 'Value of numiter: ' + str(numiter))\n",
    "            gnew, xnew, gpnew = gmu(matrix, xp_mat, newmu)\n",
    "\n",
    "            if gnew < k:\n",
    "                gup = gnew; xup = xnew; muup = newmu; \n",
    "            else:\n",
    "                glow = gnew; mulow = xnew; mulow = newmu;\n",
    "                \n",
    "            # Guarantees linear convergence\n",
    "            if (muup - mulow) > linrat * delta and abs(oldmu - newmu) < (1 - linrat) * delta:\n",
    "                newmu = (mulow + muup) / 2\n",
    "                gnew, xnew, gpnew = gmu(matrix, xp_mat, newmu)\n",
    "\n",
    "                if gnew < k:\n",
    "                    gup = gnew; xup = xnew; muup = newmu\n",
    "                else:\n",
    "                    glow = gnew; mulow = xnew; mulow = newmu\n",
    "                    \n",
    "                numiter += 1\n",
    "            numiter += 1\n",
    "\n",
    "            if critmu.shape[0] != 0 and abs(mulow - muup) < abs(newmu) * precision and \\\n",
    "                    min(abs(newmu - critmu)) < precision * newmu:\n",
    "                print('The objective function is discontinuous around mu^*.')\n",
    "                xp = xnew\n",
    "                gxpmu = gnew\n",
    "        \n",
    "            xp_mat = xnew\n",
    "\n",
    "        # try:\n",
    "        #     xp_mat = xnew\n",
    "        # except:\n",
    "        #     # torch.save(matrix, 'prob_tensor.pt')\n",
    "        #     print(f'num_iter: {numiter}')\n",
    "        #     # print('FAILED HERE')\n",
    "        #     # lhs = abs(gnew - k)\n",
    "        #     # rhs =  precision * r\n",
    "        #     print(f\"gnew: {gnew}, k: {k}, precision: {precision}, r: {r}\")\n",
    "\n",
    "        gxpmu = gnew\n",
    "\n",
    "    alpha_mat = torch.matmul(xp_mat.T, pos_matrix)\n",
    " \n",
    "\n",
    "    alpha = torch.diagonal(alpha_mat)\n",
    "    xp_mat = alpha * (matrix_sign * xp_mat)\n",
    "\n",
    "    outinfo = { 'numiter': numiter,\n",
    "                'gxpmu':gxpmu, \n",
    "                'newmu':newmu\n",
    "                }\n",
    "\n",
    "    return xp_mat, outinfo"
   ]
  },
  {
   "cell_type": "code",
   "execution_count": 88,
   "metadata": {},
   "outputs": [],
   "source": [
    "def load_matrix_debug(path=\"./matrices/matrix_3.pkl\"):\n",
    "    with open(path, \"rb\") as fpA:  # Pickling\n",
    "        matrix = pickle.load(fpA)\n",
    "        # matrix = matrix.detach()\n",
    "        matrix = torch.from_numpy(matrix)\n",
    "    return matrix"
   ]
  },
  {
   "cell_type": "code",
   "execution_count": 104,
   "metadata": {},
   "outputs": [],
   "source": [
    "# matrix = load_matrix_debug()\n",
    "mat = torch.load('./matrices/prob_tensor.pt')\n",
    "# scipy.io.savemat('matrix.mat', mdict={'arr': mat.cpu().numpy()})"
   ]
  },
  {
   "cell_type": "code",
   "execution_count": 107,
   "metadata": {},
   "outputs": [],
   "source": [
    "out, _ = groupedsparseproj(mat, sps=0.82, precision=1e-6, linrat=0.9)"
   ]
  },
  {
   "cell_type": "code",
   "execution_count": 108,
   "metadata": {},
   "outputs": [
    {
     "data": {
      "text/plain": [
       "tensor(0.8200, device='cuda:0')"
      ]
     },
     "execution_count": 108,
     "metadata": {},
     "output_type": "execute_result"
    }
   ],
   "source": [
    "sparsity(out)"
   ]
  },
  {
   "cell_type": "code",
   "execution_count": null,
   "metadata": {},
   "outputs": [],
   "source": []
  },
  {
   "cell_type": "markdown",
   "metadata": {},
   "source": [
    "-----------------\n",
    "## Visualization of Matrix Projection"
   ]
  },
  {
   "cell_type": "code",
   "execution_count": 57,
   "metadata": {},
   "outputs": [],
   "source": [
    "mat = torch.tensor([ [1,2,14,9,-14,9,-1,5,-11,7],\n",
    "                        [8,2,-6,-13,-24,-13,-6,1,4,-11],\n",
    "                        [-3,-2,3,-1,-6,3,18,-2,-2,-19] ], device=device, dtype=torch.float).T"
   ]
  },
  {
   "cell_type": "code",
   "execution_count": 58,
   "metadata": {},
   "outputs": [],
   "source": [
    "n = mat.shape[0]\n",
    "r = mat.shape[1]\n",
    "k0 = r * np.sqrt(n)/(np.sqrt(n) - 1)"
   ]
  },
  {
   "cell_type": "code",
   "execution_count": 59,
   "metadata": {},
   "outputs": [],
   "source": [
    "# Projection 1 with SPS 0.8\n",
    "out_8, info_8 = groupedsparseproj(mat, sps=0.8, precision=1e-4, linrat=0.9)\n",
    "k1 =  k0 - r * 0.8\n",
    "out_9, info_9 = groupedsparseproj(mat, sps=0.9, precision=1e-4, linrat=0.9)\n",
    "k2 =  k0 - r * 0.9"
   ]
  },
  {
   "cell_type": "code",
   "execution_count": 60,
   "metadata": {},
   "outputs": [],
   "source": [
    "mumax=40\n",
    "mu_range = np.linspace(0,40,501)\n",
    "\n",
    "vgmu_l = list()\n",
    "for mu in np.nditer(mu_range):\n",
    "    vgmu, _, _ = gmu(mat.abs(), mat, mu=float(mu))\n",
    "    vgmu_l.append(vgmu.item())"
   ]
  },
  {
   "cell_type": "code",
   "execution_count": 61,
   "metadata": {},
   "outputs": [],
   "source": [
    "newmu1 = info_8['newmu'].item()\n",
    "newmu2 = info_9['newmu'].item()"
   ]
  },
  {
   "cell_type": "code",
   "execution_count": 62,
   "metadata": {},
   "outputs": [
    {
     "data": {
      "text/plain": [
       "[<matplotlib.lines.Line2D at 0x7f7eb131b940>]"
      ]
     },
     "execution_count": 62,
     "metadata": {},
     "output_type": "execute_result"
    },
    {
     "data": {
      "image/png": "[encoded data removed]",
      "text/plain": [
       "<Figure size 576x396 with 1 Axes>"
      ]
     },
     "metadata": {},
     "output_type": "display_data"
    }
   ],
   "source": [
    "plt.style.use('seaborn')\n",
    "plt.plot(mu_range, vgmu_l)\n",
    "plt.plot([newmu1, newmu1], [min(vgmu_l)-0.1, max(vgmu_l)+0.1])\n",
    "plt.plot([newmu2, newmu2], [min(vgmu_l)-0.1, max(vgmu_l)+0.1], '--')\n",
    "plt.plot([0, mumax], [k1, k1])\n",
    "plt.plot([0, mumax], [k2, k2], '--')\n",
    "\n"
   ]
  },
  {
   "cell_type": "code",
   "execution_count": null,
   "metadata": {},
   "outputs": [],
   "source": []
  }
 ],
 "metadata": {
  "interpreter": {
   "hash": "95a80be99c85f7168e962cfd15ef8eaee54987e9a808a4cfe4ee99a80cb38466"
  },
  "kernelspec": {
   "display_name": "Python 3.9.6 64-bit ('imagenet': conda)",
   "name": "python3"
  },
  "language_info": {
   "codemirror_mode": {
    "name": "ipython",
    "version": 3
   },
   "file_extension": ".py",
   "mimetype": "text/x-python",
   "name": "python",
   "nbconvert_exporter": "python",
   "pygments_lexer": "ipython3",
   "version": "3.9.6"
  }
 },
 "nbformat": 4,
 "nbformat_minor": 4
}

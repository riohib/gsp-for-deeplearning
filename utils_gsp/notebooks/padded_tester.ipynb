{
 "cells": [
  {
   "cell_type": "code",
   "execution_count": 1,
   "metadata": {},
   "outputs": [],
   "source": [
    "%load_ext autoreload\n",
    "%autoreload 2"
   ]
  },
  {
   "cell_type": "code",
   "execution_count": 2,
   "metadata": {},
   "outputs": [],
   "source": [
    "import torch\n",
    "import numpy as np\n",
    "from numpy import linalg as LA\n",
    "import pickle\n",
    "# import scipy.io\n",
    "import logging\n",
    "import pdb\n",
    "import time"
   ]
  },
  {
   "cell_type": "code",
   "execution_count": 3,
   "metadata": {},
   "outputs": [],
   "source": [
    "sys.path.append(\"..\")\n",
    "import gpu_projection as gsp_gpu"
   ]
  },
  {
   "cell_type": "code",
   "execution_count": 4,
   "metadata": {},
   "outputs": [],
   "source": [
    "device = torch.device('cuda' if torch.cuda.is_available() else 'cpu')"
   ]
  },
  {
   "cell_type": "code",
   "execution_count": 5,
   "metadata": {},
   "outputs": [],
   "source": [
    "\n",
    "def pad_input_dict(in_dict):\n",
    "    \"\"\"\n",
    "    This function is for the case when the layers are flattened in a column and structured as\n",
    "    a dictionary. Each columns stored in the dictionary is  padded at the end with zeros and a\n",
    "    matrix is created.\n",
    "    \"\"\"\n",
    "    ni_list = [x.shape[0] for x in in_dict.values()]\n",
    "    max_rows = max(ni_list)\n",
    "\n",
    "    matrix = torch.zeros(max_rows, len(in_dict), device=device)\n",
    "\n",
    "    for ind in range(len(in_dict)):\n",
    "        matrix[:ni_list[ind],ind] = in_dict[ind]\n",
    "    return matrix, ni_list"
   ]
  },
  {
   "cell_type": "code",
   "execution_count": 6,
   "metadata": {},
   "outputs": [],
   "source": [
    "\n",
    "def unpad_output_mat(out_mat, ni_list):\n",
    "    out_dict = {}\n",
    "    for ind in range(out_mat.shape[1]):\n",
    "        out_dict[ind] = out_mat[:ni_list[ind],ind]\n",
    "    return out_dict"
   ]
  },
  {
   "cell_type": "code",
   "execution_count": 7,
   "metadata": {},
   "outputs": [],
   "source": [
    "\n",
    "def checkCritical(pos_matrix, precision=1e-6):\n",
    "    max_elems = torch.max(pos_matrix, 0)[0]\n",
    "\n",
    "    ind_crit_bool = (abs(pos_matrix - max_elems) < precision)\n",
    "    crit_points = pos_matrix * ind_crit_bool\n",
    "\n",
    "    num_crit_points = torch.sum(ind_crit_bool, dim=0)\n",
    "\n",
    "    # Boolean of vector cols with non-trivial critical values\n",
    "    crit_cols = torch.where(num_crit_points.float() > 1, torch.ones(pos_matrix.shape[1], device=device), \\\n",
    "                            torch.zeros(pos_matrix.shape[1], device=device))\n",
    "    # getting non-trivial critical values\n",
    "    critval_list = max_elems[crit_cols.bool()]\n",
    "    critval_all_col = max_elems * crit_cols\n",
    "\n",
    "    return critval_list, max_elems, critval_all_col"
   ]
  },
  {
   "cell_type": "code",
   "execution_count": 8,
   "metadata": {},
   "outputs": [],
   "source": [
    "def gmu(p_matrix, xp_mat, mu=0, *args):\n",
    "    ni_tensor, inv_mask = args\n",
    "\n",
    "    vgmu = 0\n",
    "    gradg = 0\n",
    "    ni_tlist = ni_tensor.int()\n",
    "    \n",
    "    p_matrix = torch.abs(p_matrix)\n",
    "    glist = []\n",
    "\n",
    "#----------------------------------------------------------------------------------------\n",
    "    # ni_tensor\n",
    "    betai = 1 / (torch.sqrt(ni_tensor) - 1)\n",
    "    xp_mat = p_matrix - (mu * betai)\n",
    "    indtp = xp_mat > 0\n",
    "    xp_mat.relu_()\n",
    "\n",
    "\n",
    "    # outputs\n",
    "    mnorm = torch.norm(xp_mat, dim=0)\n",
    "    mnorm_inf = mnorm.clone()\n",
    "    mnorm_inf[mnorm_inf == 0] = float(\"Inf\")\n",
    "    col_norm_mask = (mnorm > 0)\n",
    "\n",
    "#----------------------------------------------------------------------------------------\n",
    "#----------------------------------------------------------------------------------------\n",
    "    # mat_mask =  (col_norm_mask.float().view(1,784) * torch.ones(300,1))\n",
    "    # mat_mask = (col_norm_mask.float().view(1, matrix.shape[1]) * torch.ones(matrix.shape[0], 1))\n",
    "\n",
    "    nip = torch.sum(xp_mat > 0, dim=0)  # columnwise number of values > 0\n",
    "\n",
    "    # needs the if condition mnorm> 0 (it's included)\n",
    "    # Terms in the Gradient Calculation\n",
    "    term2 = torch.pow(torch.sum(xp_mat, dim=0), 2)\n",
    "    mnorm_inv = torch.pow(mnorm_inf, -1)\n",
    "    mnorm_inv3 = torch.pow(mnorm_inf, -3)\n",
    "\n",
    "    # The column vectors with norm mnorm == 0 zero, should not contribute to the gradient sum.\n",
    "    # In the published algorithm, we only calculate gradients for condition: mnorm> 0\n",
    "    # To vectorize, we include in the matrix columns where mnorm == 0, but we manually replace\n",
    "    # the inf after divide by zero with 0, so that the grad of that column becomes 0 and\n",
    "    # doesn't contribute to the sum.\n",
    "    # mnorm_inv[torch.isinf(mnorm_inv)] = 0\n",
    "    # mnorm_inv3[torch.isinf(mnorm_inv3)] = 0\n",
    "\n",
    "    # Calculate Gradient\n",
    "    gradg_mat = torch.pow(betai, 2) * (-nip * mnorm_inv + term2 * mnorm_inv3)\n",
    "    gradg = torch.sum(gradg_mat)\n",
    "\n",
    "#----------------------------------------------------------------------------------------\n",
    "#----------------------------------------------------------------------------------------\n",
    "    # vgmu calculation\n",
    "    ## When indtp is not empty (the columns whose norm are not zero)\n",
    "    xp_mat *= inv_mask \n",
    "    xp_mat[:, col_norm_mask] /= mnorm[col_norm_mask]\n",
    "\n",
    "    ### When indtp IS empty (the columns whose norm ARE zero)\n",
    "    # The Row Indices where maximum of that column occurs\n",
    "    max_elem_rows = torch.argmax(p_matrix, dim=0)[~col_norm_mask] \n",
    "    \n",
    "    xp_mat[max_elem_rows, ~col_norm_mask] = 1\n",
    "\n",
    "    # vgmu computation\n",
    "    vgmu_mat = betai * torch.sum(xp_mat, dim=0)\n",
    "    vgmu = torch.sum(vgmu_mat)\n",
    "\n",
    "    return vgmu, xp_mat, gradg"
   ]
  },
  {
   "cell_type": "code",
   "execution_count": 9,
   "metadata": {},
   "outputs": [],
   "source": [
    "# --------------------------------------------------------------------------------------------------- #\n",
    "# ------------------------------------- groupedsparseproj ------------------------------------------- #\n",
    "# --------------------------------------------------------------------------------------------------- #\n",
    "def groupedsparseproj(in_dict, sps, precision=1e-6, linrat=0.9):\n",
    "    # sps = 0.9 ;  precision=1e-6; linrat=0.9\n",
    "    epsilon = 10e-15\n",
    "    k = 0\n",
    "    muup0 = 0\n",
    "\n",
    "    matrix, ni_list = pad_input_dict(in_dict)\n",
    "    ni_tensor = torch.tensor(ni_list, device=device, dtype=torch.float32)\n",
    "\n",
    "    # --------------- Create Mask ---------------------\n",
    "    inv_mask = torch.zeros(matrix.shape, device=device, dtype=torch.float32)\n",
    "    for i in range(matrix.shape[1]):\n",
    "        inv_mask[:ni_list[i],i] = torch.ones(ni_list[i])\n",
    "    # -------------------------------------------------\n",
    "\n",
    "    r = matrix.shape[1]  # No of Columns\n",
    "    critmu = torch.tensor([])\n",
    "    critval_list = []\n",
    "\n",
    "    vgmu = torch.zeros(1, device=device)\n",
    "\n",
    "    # These operations were inside the loop, but doesn't need to be.\n",
    "    matrix_sign = torch.sign(matrix)\n",
    "    pos_matrix = matrix_sign * matrix\n",
    "    ni = matrix.shape[0]\n",
    "\n",
    "#----------------------------------------------------------------------------------------\n",
    "    k = sum(np.sqrt(ni_list)/(np.sqrt(ni_list)-1))\n",
    "\n",
    "\n",
    "    # check critical values of mu where g(mu) is discontinuous, that is,\n",
    "    # where the two (or more) largest entries of x{i} are equal to one another.\n",
    "    critical_val, max_xi, cval_all_col = checkCritical(pos_matrix)\n",
    "\n",
    "    muup0 = max(max_xi * (torch.sqrt(ni_tensor) - 1))\n",
    "\n",
    "    # cval_all_col was extracted for the sole reason that we can multiply the critical\n",
    "    # values withe the appropriate column ni below. Hence, it preserves the column information\n",
    "    # of where the critical values came from.\n",
    "    critmu = cval_all_col * (torch.sqrt(ni_tensor) - 1) \n",
    "    critmu = critmu[critmu > 1e-6] # we only need the critival values here, not the zeros in col.\n",
    "\n",
    "    k = k - r * sps\n",
    "\n",
    "    # -------------------- gmu --------------------\n",
    "    xp_mat = torch.zeros([pos_matrix.shape[0], pos_matrix.shape[1]]).to(device)\n",
    "    # gmu_args = {'xp_mat':xp_mat, 'ni_tensor':ni_tensor}\n",
    "    \n",
    "    vgmu, xp_mat, gradg = gmu(pos_matrix, xp_mat, 0, ni_tensor, inv_mask)\n",
    "\n",
    "#----------------------------------------------------------------------------------------\n",
    "    # if vgmu < k or abs(vgmu-k) < 1e-15:\n",
    "    if vgmu < k:     \n",
    "        xp_mat = matrix\n",
    "        gxpmu = vgmu\n",
    "        numiter = 0\n",
    "        return xp_mat\n",
    "    else:\n",
    "        numiter = 0\n",
    "        mulow = 0\n",
    "        glow = vgmu\n",
    "        muup = muup0\n",
    "        # Initialization on mu using 0, it seems to work best because the\n",
    "        # slope at zero is rather steep while it is gets flat for large mu\n",
    "        newmu = 0\n",
    "        gnew = glow\n",
    "        gpnew = gradg  # g'(0)\n",
    "        delta = muup - mulow\n",
    "        switch = True\n",
    "\n",
    "        # pdb.set_trace()\n",
    "        while abs(gnew - k) > precision * r and numiter < 100:\n",
    "            oldmu = newmu\n",
    "            # % Secant method:\n",
    "            # % newmu = mulow + (k-glow)*(muup-mulow)/(gup-glow);\n",
    "\n",
    "            # % Bisection:\n",
    "            # % newmu = (muup+mulow)/2;\n",
    "            # % Newton:\n",
    "            newmu = oldmu + (k - gnew) / (gpnew + epsilon)\n",
    "\n",
    "            if (newmu >= muup) or (newmu <= mulow):  # If Newton goes out of the interval, use bisection\n",
    "                newmu = (mulow + muup) / 2\n",
    "\n",
    "            # print( 'Value of numiter: ' + str(numiter))\n",
    "            gnew, xnew, gpnew = gmu(pos_matrix, xp_mat, newmu, ni_tensor, inv_mask)\n",
    "                                \n",
    "            if gnew < k:\n",
    "                gup = gnew\n",
    "                xup = xnew\n",
    "                muup = newmu\n",
    "            else:\n",
    "                glow = gnew\n",
    "                mulow = xnew\n",
    "                mulow = newmu\n",
    "\n",
    "            # Guarantees linear convergence\n",
    "            if (muup - mulow) > linrat * delta and abs(oldmu - newmu) < (1 - linrat) * delta:\n",
    "                newmu = (mulow + muup) / 2\n",
    "                gnew, xnew, gpnew = gmu(pos_matrix, xp_mat, newmu, ni_tensor, inv_mask)\n",
    "\n",
    "                if gnew < k:\n",
    "                    gup = gnew\n",
    "                    xup = xnew\n",
    "                    muup = newmu\n",
    "                else:\n",
    "                    glow = gnew\n",
    "                    mulow = xnew\n",
    "                    mulow = newmu\n",
    "                numiter += 1\n",
    "            numiter += 1\n",
    "\n",
    "            if critmu.shape[0] != 0 and abs(mulow - muup) < abs(newmu) * precision and \\\n",
    "                    min(abs(newmu - critmu)) < precision * newmu:\n",
    "                print('The objective function is discontinuous around mu^*.')\n",
    "                xp = xnew\n",
    "                gxpmu = gnew\n",
    "        \n",
    "            xp_mat = xnew\n",
    "\n",
    "        gxpmu = gnew\n",
    "\n",
    "    # -------------------------------------------\n",
    "    # We need the column to column dot product between the two matrices xp_mat and pos_matrix\n",
    "    # Hence, we resort to Matrix- Multiplication and then extract the diagonal elements.\n",
    "    # This is equivalent to the above.\n",
    "    alpha = torch.diag(torch.matmul(xp_mat.T, pos_matrix))\n",
    "    xp_mat = alpha * (xp_mat * matrix_sign)\n",
    "    # -------------------------------------------\n",
    " \n",
    "    return xp_mat, ni_list"
   ]
  },
  {
   "cell_type": "code",
   "execution_count": 10,
   "metadata": {},
   "outputs": [],
   "source": [
    "def load_matrix_debug(mat_tuple, is_dict):\n",
    "    matrix_1, matrix_2, matrix_3, matrix_4 = mat_tuple\n",
    "    with open(matrix_1, \"rb\") as fpA:  # Pickling\n",
    "        matrix_1 = pickle.load(fpA)\n",
    "    with open(matrix_2, \"rb\") as fpA:  # Pickling\n",
    "        matrix_2 = pickle.load(fpA)\n",
    "    with open(matrix_3, \"rb\") as fpA:  # Pickling\n",
    "        matrix_3 = pickle.load(fpA)\n",
    "    with open(matrix_4, \"rb\") as fpA:  # Pickling\n",
    "        matrix_4 = pickle.load(fpA)\n",
    "\n",
    "    if is_dict == True:\n",
    "        matrix_1 = torch.from_numpy(matrix_1).view(-1)\n",
    "        matrix_2 = torch.from_numpy(matrix_2).view(-1)\n",
    "        matrix_3 = torch.from_numpy(matrix_3).view(-1)\n",
    "        matrix_4 = torch.from_numpy(matrix_4).view(-1)\n",
    "        matrix = {0:matrix_1, 1:matrix_2, 2:matrix_3, 3:matrix_4}\n",
    "    else:\n",
    "        matrix_1 = torch.from_numpy(matrix_1)\n",
    "        matrix_2 = torch.from_numpy(matrix_2)\n",
    "        matrix_3 = torch.from_numpy(matrix_3)\n",
    "        matrix_4 = torch.from_numpy(matrix_4)\n",
    "        matrix = {0:matrix_1, 1:matrix_2, 2:matrix_3, 3:matrix_4}\n",
    "\n",
    "    return matrix"
   ]
  },
  {
   "cell_type": "markdown",
   "metadata": {},
   "source": [
    "-------"
   ]
  },
  {
   "cell_type": "code",
   "execution_count": 11,
   "metadata": {},
   "outputs": [],
   "source": [
    "mat_tuple = (\"./matrices/matrix_1.pkl\", \"./matrices/matrix_2.pkl\", \"./matrices/matrix_3.pkl\", \\\n",
    "             \"./matrices/matrix_4.pkl\")\n",
    "in_dict = load_matrix_debug(mat_tuple, is_dict=True)"
   ]
  },
  {
   "cell_type": "code",
   "execution_count": 30,
   "metadata": {},
   "outputs": [
    {
     "data": {
      "text/plain": [
       "[torch.Size([500]),\n",
       " torch.Size([25000]),\n",
       " torch.Size([400000]),\n",
       " torch.Size([5000])]"
      ]
     },
     "execution_count": 30,
     "metadata": {},
     "output_type": "execute_result"
    }
   ],
   "source": [
    "[x.shape for x in in_dict.values()]"
   ]
  },
  {
   "cell_type": "code",
   "execution_count": 31,
   "metadata": {},
   "outputs": [],
   "source": [
    "sps = 0.9 ;  precision=1e-6; linrat=0.9\n",
    "epsilon = 10e-15\n",
    "k = 0\n",
    "muup0 = 0"
   ]
  },
  {
   "cell_type": "code",
   "execution_count": 32,
   "metadata": {},
   "outputs": [],
   "source": [
    "# matrix, ni_list = pad_input_dict(in_dict)\n",
    "# ni_tensor = torch.tensor(ni_list, device=device, dtype=torch.float32)"
   ]
  },
  {
   "cell_type": "code",
   "execution_count": 33,
   "metadata": {},
   "outputs": [],
   "source": [
    "matrix, ni_list = pad_input_dict(in_dict)\n",
    "ni_tensor = torch.tensor(ni_list, device=device, dtype=torch.float32)"
   ]
  },
  {
   "cell_type": "code",
   "execution_count": 34,
   "metadata": {},
   "outputs": [],
   "source": [
    "# --------------- Create Mask ---------------------\n",
    "inv_mask = torch.zeros(matrix.shape, device=device, dtype=torch.float32)\n",
    "# -------------------------------------------------"
   ]
  },
  {
   "cell_type": "code",
   "execution_count": 35,
   "metadata": {},
   "outputs": [],
   "source": [
    "# for i in range(matrix.shape[1]):\n",
    "#     inv_mask[:ni_list[i],i] = torch.ones(ni_list[i])\n",
    "# torch.where(matrix> 0, torch.tensor(1).to(device), torch.tensor(0).to(device))    "
   ]
  },
  {
   "cell_type": "code",
   "execution_count": 36,
   "metadata": {},
   "outputs": [],
   "source": [
    "xp_mat, ni_list = groupedsparseproj(in_dict, sps, precision=1e-6, linrat=0.9)"
   ]
  },
  {
   "cell_type": "markdown",
   "metadata": {},
   "source": [
    "-----------------"
   ]
  },
  {
   "cell_type": "code",
   "execution_count": 14,
   "metadata": {},
   "outputs": [],
   "source": [
    "mat = torch.tensor([ [1,2,14,9,-14,9,-1,5,-11,7],\n",
    "                        [8,2,-6,-13,-24,-13,-6,1,4,-11],\n",
    "                        [-3,-2,3,-1,-6,3,18,-2,-2,-19] ], device=device, dtype=torch.float).T"
   ]
  },
  {
   "cell_type": "code",
   "execution_count": 23,
   "metadata": {},
   "outputs": [],
   "source": [
    "mat_d = dict()\n",
    "for i in range(mat.shape[1]):\n",
    "    mat_d[i] = mat[:, i]"
   ]
  },
  {
   "cell_type": "code",
   "execution_count": 27,
   "metadata": {},
   "outputs": [],
   "source": [
    "mat, ni = groupedsparseproj(mat_d, 0.8, precision=1e-6, linrat=0.9)"
   ]
  },
  {
   "cell_type": "code",
   "execution_count": 28,
   "metadata": {},
   "outputs": [
    {
     "data": {
      "text/plain": [
       "tensor([[  0.0000,   0.0000,  14.6835,   0.0000, -14.6835,   0.0000,  -0.0000,\n",
       "           0.0000,  -2.3097,   0.0000],\n",
       "        [  0.0000,   0.0000,  -0.0000,  -5.1663, -27.3654,  -5.1663,  -0.0000,\n",
       "           0.0000,   0.0000,  -1.1301],\n",
       "        [ -0.0000,  -0.0000,   0.0000,  -0.0000,  -0.0000,   0.0000,  17.3148,\n",
       "          -0.0000,  -0.0000, -19.6051]], device='cuda:0')"
      ]
     },
     "execution_count": 28,
     "metadata": {},
     "output_type": "execute_result"
    }
   ],
   "source": [
    "mat.T"
   ]
  },
  {
   "cell_type": "code",
   "execution_count": null,
   "metadata": {},
   "outputs": [],
   "source": []
  }
 ],
 "metadata": {
  "interpreter": {
   "hash": "95a80be99c85f7168e962cfd15ef8eaee54987e9a808a4cfe4ee99a80cb38466"
  },
  "kernelspec": {
   "display_name": "Python 3.9.6 64-bit ('imagenet': conda)",
   "name": "python3"
  },
  "language_info": {
   "codemirror_mode": {
    "name": "ipython",
    "version": 3
   },
   "file_extension": ".py",
   "mimetype": "text/x-python",
   "name": "python",
   "nbconvert_exporter": "python",
   "pygments_lexer": "ipython3",
   "version": "3.9.6"
  }
 },
 "nbformat": 4,
 "nbformat_minor": 4
}
